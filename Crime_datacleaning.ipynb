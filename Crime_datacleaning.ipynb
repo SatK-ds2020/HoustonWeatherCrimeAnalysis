{
 "cells": [
  {
   "cell_type": "code",
   "execution_count": 1,
   "id": "c825874e",
   "metadata": {},
   "outputs": [],
   "source": [
    "# Importing Libraries\n",
    "import pandas as pd\n",
    "import numpy as np\n",
    "import geopandas as gpd\n",
    "import datetime as dt\n",
    "import warnings\n",
    "warnings.filterwarnings(\"ignore\")"
   ]
  },
  {
   "cell_type": "code",
   "execution_count": 2,
   "id": "a55c8558",
   "metadata": {},
   "outputs": [],
   "source": [
    "#Import Data\n",
    "crime_data=pd.read_csv('merged_jan2010_Jul2023.csv', dtype={'Beat': str, 'ZIP Code': str, 'Offense Count': float, 'Incident': float})"
   ]
  },
  {
   "cell_type": "code",
   "execution_count": 3,
   "id": "535c23f2",
   "metadata": {},
   "outputs": [
    {
     "data": {
      "text/plain": [
       "(2307150, 17)"
      ]
     },
     "execution_count": 3,
     "metadata": {},
     "output_type": "execute_result"
    }
   ],
   "source": [
    "crime_data.shape"
   ]
  },
  {
   "cell_type": "code",
   "execution_count": 5,
   "id": "8b09f3d5",
   "metadata": {},
   "outputs": [
    {
     "data": {
      "text/html": [
       "<div>\n",
       "<style scoped>\n",
       "    .dataframe tbody tr th:only-of-type {\n",
       "        vertical-align: middle;\n",
       "    }\n",
       "\n",
       "    .dataframe tbody tr th {\n",
       "        vertical-align: top;\n",
       "    }\n",
       "\n",
       "    .dataframe thead th {\n",
       "        text-align: right;\n",
       "    }\n",
       "</style>\n",
       "<table border=\"1\" class=\"dataframe\">\n",
       "  <thead>\n",
       "    <tr style=\"text-align: right;\">\n",
       "      <th></th>\n",
       "      <th>Occurrence Date</th>\n",
       "      <th>Occurrence Hour</th>\n",
       "      <th>NIBRS Description</th>\n",
       "      <th>Offense Count</th>\n",
       "      <th>Beat</th>\n",
       "      <th>Premise</th>\n",
       "      <th>Block Range</th>\n",
       "      <th>Street Name</th>\n",
       "      <th>Street Type</th>\n",
       "      <th>Suffix</th>\n",
       "      <th>Incident</th>\n",
       "      <th>NIBRS Class</th>\n",
       "      <th>City</th>\n",
       "      <th>ZIP Code</th>\n",
       "      <th>Street No</th>\n",
       "      <th>MapLongitude</th>\n",
       "      <th>MapLatitude</th>\n",
       "    </tr>\n",
       "  </thead>\n",
       "  <tbody>\n",
       "    <tr>\n",
       "      <th>0</th>\n",
       "      <td>2010-01-01 00:00:00</td>\n",
       "      <td>8.0</td>\n",
       "      <td>Theft</td>\n",
       "      <td>1.0</td>\n",
       "      <td>3B10</td>\n",
       "      <td>20R</td>\n",
       "      <td>4900-4999</td>\n",
       "      <td>POINCIANA</td>\n",
       "      <td>DR</td>\n",
       "      <td>-</td>\n",
       "      <td>NaN</td>\n",
       "      <td>NaN</td>\n",
       "      <td>NaN</td>\n",
       "      <td>NaN</td>\n",
       "      <td>NaN</td>\n",
       "      <td>NaN</td>\n",
       "      <td>NaN</td>\n",
       "    </tr>\n",
       "    <tr>\n",
       "      <th>1</th>\n",
       "      <td>2010-01-01 00:00:00</td>\n",
       "      <td>18.0</td>\n",
       "      <td>Theft</td>\n",
       "      <td>1.0</td>\n",
       "      <td>5F20</td>\n",
       "      <td>20D</td>\n",
       "      <td>8700-8799</td>\n",
       "      <td>HAMMERLY</td>\n",
       "      <td>-</td>\n",
       "      <td>-</td>\n",
       "      <td>NaN</td>\n",
       "      <td>NaN</td>\n",
       "      <td>NaN</td>\n",
       "      <td>NaN</td>\n",
       "      <td>NaN</td>\n",
       "      <td>NaN</td>\n",
       "      <td>NaN</td>\n",
       "    </tr>\n",
       "    <tr>\n",
       "      <th>2</th>\n",
       "      <td>2010-01-01 00:00:00</td>\n",
       "      <td>0.0</td>\n",
       "      <td>Burglary</td>\n",
       "      <td>1.0</td>\n",
       "      <td>1A10</td>\n",
       "      <td>05O</td>\n",
       "      <td>400-499</td>\n",
       "      <td>MAIN</td>\n",
       "      <td>ST</td>\n",
       "      <td>-</td>\n",
       "      <td>NaN</td>\n",
       "      <td>NaN</td>\n",
       "      <td>NaN</td>\n",
       "      <td>NaN</td>\n",
       "      <td>NaN</td>\n",
       "      <td>NaN</td>\n",
       "      <td>NaN</td>\n",
       "    </tr>\n",
       "    <tr>\n",
       "      <th>3</th>\n",
       "      <td>2010-01-01 00:00:00</td>\n",
       "      <td>0.0</td>\n",
       "      <td>Theft</td>\n",
       "      <td>1.0</td>\n",
       "      <td>7C10</td>\n",
       "      <td>20R</td>\n",
       "      <td>1900-1999</td>\n",
       "      <td>LOCKWOOD</td>\n",
       "      <td>DR</td>\n",
       "      <td>-</td>\n",
       "      <td>NaN</td>\n",
       "      <td>NaN</td>\n",
       "      <td>NaN</td>\n",
       "      <td>NaN</td>\n",
       "      <td>NaN</td>\n",
       "      <td>NaN</td>\n",
       "      <td>NaN</td>\n",
       "    </tr>\n",
       "    <tr>\n",
       "      <th>4</th>\n",
       "      <td>2010-01-01 00:00:00</td>\n",
       "      <td>10.0</td>\n",
       "      <td>Theft</td>\n",
       "      <td>1.0</td>\n",
       "      <td>18F20</td>\n",
       "      <td>18A</td>\n",
       "      <td>3300-3399</td>\n",
       "      <td>MCCUE</td>\n",
       "      <td>RD</td>\n",
       "      <td>-</td>\n",
       "      <td>NaN</td>\n",
       "      <td>NaN</td>\n",
       "      <td>NaN</td>\n",
       "      <td>NaN</td>\n",
       "      <td>NaN</td>\n",
       "      <td>NaN</td>\n",
       "      <td>NaN</td>\n",
       "    </tr>\n",
       "  </tbody>\n",
       "</table>\n",
       "</div>"
      ],
      "text/plain": [
       "       Occurrence Date Occurrence Hour NIBRS Description  Offense Count  \\\n",
       "0  2010-01-01 00:00:00             8.0             Theft            1.0   \n",
       "1  2010-01-01 00:00:00            18.0             Theft            1.0   \n",
       "2  2010-01-01 00:00:00             0.0          Burglary            1.0   \n",
       "3  2010-01-01 00:00:00             0.0             Theft            1.0   \n",
       "4  2010-01-01 00:00:00            10.0             Theft            1.0   \n",
       "\n",
       "    Beat Premise Block Range Street Name Street Type Suffix  Incident  \\\n",
       "0   3B10     20R   4900-4999   POINCIANA          DR      -       NaN   \n",
       "1   5F20     20D   8700-8799    HAMMERLY           -      -       NaN   \n",
       "2   1A10     05O     400-499        MAIN          ST      -       NaN   \n",
       "3   7C10     20R   1900-1999    LOCKWOOD          DR      -       NaN   \n",
       "4  18F20     18A   3300-3399       MCCUE          RD      -       NaN   \n",
       "\n",
       "  NIBRS Class City ZIP Code Street No  MapLongitude  MapLatitude  \n",
       "0         NaN  NaN      NaN       NaN           NaN          NaN  \n",
       "1         NaN  NaN      NaN       NaN           NaN          NaN  \n",
       "2         NaN  NaN      NaN       NaN           NaN          NaN  \n",
       "3         NaN  NaN      NaN       NaN           NaN          NaN  \n",
       "4         NaN  NaN      NaN       NaN           NaN          NaN  "
      ]
     },
     "execution_count": 5,
     "metadata": {},
     "output_type": "execute_result"
    }
   ],
   "source": [
    "crime_data.head()"
   ]
  },
  {
   "cell_type": "code",
   "execution_count": 4,
   "id": "f1cca687",
   "metadata": {},
   "outputs": [
    {
     "name": "stdout",
     "output_type": "stream",
     "text": [
      "<class 'pandas.core.frame.DataFrame'>\n",
      "RangeIndex: 2307150 entries, 0 to 2307149\n",
      "Data columns (total 17 columns):\n",
      " #   Column             Dtype  \n",
      "---  ------             -----  \n",
      " 0   Occurrence Date    object \n",
      " 1   Occurrence Hour    object \n",
      " 2   NIBRS Description  object \n",
      " 3   Offense Count      float64\n",
      " 4   Beat               object \n",
      " 5   Premise            object \n",
      " 6   Block Range        object \n",
      " 7   Street Name        object \n",
      " 8   Street Type        object \n",
      " 9   Suffix             object \n",
      " 10  Incident           float64\n",
      " 11  NIBRS Class        object \n",
      " 12  City               object \n",
      " 13  ZIP Code           object \n",
      " 14  Street No          object \n",
      " 15  MapLongitude       float64\n",
      " 16  MapLatitude        float64\n",
      "dtypes: float64(4), object(13)\n",
      "memory usage: 299.2+ MB\n"
     ]
    }
   ],
   "source": [
    "crime_data.info()"
   ]
  },
  {
   "cell_type": "code",
   "execution_count": 6,
   "id": "950e4bc1",
   "metadata": {},
   "outputs": [],
   "source": [
    "crime_data['Occurrence Date']= pd.to_datetime(crime_data['Occurrence Date'],format='mixed')"
   ]
  },
  {
   "cell_type": "code",
   "execution_count": 8,
   "id": "1dd8ec4a",
   "metadata": {},
   "outputs": [],
   "source": [
    "crime_data['NIBRS DescriptionOrg']=crime_data['NIBRS Description']"
   ]
  },
  {
   "cell_type": "code",
   "execution_count": 9,
   "id": "acc367e2",
   "metadata": {},
   "outputs": [],
   "source": [
    "# removing white spaces\n",
    "crime_data['NIBRS Description']=crime_data['NIBRS Description'].map(lambda x: x.strip())"
   ]
  },
  {
   "cell_type": "code",
   "execution_count": 10,
   "id": "d21e4d5e",
   "metadata": {},
   "outputs": [
    {
     "data": {
      "text/plain": [
       "array(['Theft', 'Burglary', 'Robbery', 'Auto Theft', 'Aggravated Assault',\n",
       "       'Rape', 'Murder', '1', 'AutoTheft', 'Simple assault',\n",
       "       'All other offenses', 'Destruction, damage, vandalism',\n",
       "       'Shoplifting', 'Motor vehicle theft', 'Theft from building',\n",
       "       'Theft from motor vehicle', 'Burglary, Breaking and Entering',\n",
       "       'False pretenses, swindle', 'Intimidation', 'Purse-snatching',\n",
       "       'All other larceny', 'Theft of motor vehicle parts or accessory',\n",
       "       'Weapon law violations', 'Drug, narcotic violations',\n",
       "       'Trespass of real property', 'Pocket-picking',\n",
       "       'Counterfeiting, forgery', 'Identify theft',\n",
       "       'Credit card, ATM fraud', 'Animal Cruelty',\n",
       "       'Family offenses, no violence', 'Driving under the influence',\n",
       "       'Impersonation', 'Bad checks', 'Statutory rape', 'Forcible rape',\n",
       "       'Disorderly conduct', 'Drug equipment violations',\n",
       "       'Stolen property offenses', 'Drunkenness', 'Prostitution',\n",
       "       'Extortion, Blackmail', 'Human Trafficking/Commercial Sex Act',\n",
       "       'Forcible sodomy', 'Embezzlement', 'Forcible fondling',\n",
       "       'Hacking/Computer Invasion', 'Assisting or promoting prostitution',\n",
       "       'Peeping tom', 'Liquor law violations', 'Wire fraud', 'Arson',\n",
       "       'Pornographs, obscene material', 'Murder, non-negligent',\n",
       "       'From coin-operated machine or device',\n",
       "       'Gambling equipment violations', 'Purchasing prostitution',\n",
       "       'Kidnapping, abduction', 'Welfare fraud', 'Runaway', 'Bribery',\n",
       "       'Sexual assault with an object',\n",
       "       'Human Trafficking/Involuntary Servitude',\n",
       "       'Negligent manslaughter', 'Curfew, loitering, vagrancy violations',\n",
       "       'Betting/wagering', 'Promoting gambling', 'Incest',\n",
       "       'Justifiable homicide', 'Kidnapping, Abduction'], dtype=object)"
      ]
     },
     "execution_count": 10,
     "metadata": {},
     "output_type": "execute_result"
    }
   ],
   "source": [
    "crime_data['NIBRS Description'].unique()"
   ]
  },
  {
   "cell_type": "code",
   "execution_count": 46,
   "id": "b71a24dc",
   "metadata": {},
   "outputs": [],
   "source": [
    "# replacing description categories accoring to NIBRS description\n",
    "crime_data['NIBRS Description']=crime_data['NIBRS Description'].replace('False pretenses, swindle','False Pretenses/Swindle/Confidence Game')        \n",
    "crime_data['NIBRS Description']=crime_data['NIBRS Description'].replace('Burglary, Breaking and Entering','Burglary/Breaking & Entering')         \n",
    "crime_data['NIBRS Description']=crime_data['NIBRS Description'].replace('Pornographs, obscene material','Pornography/Obscene Material')\n",
    "crime_data['NIBRS Description']=crime_data['NIBRS Description'].replace('Destruction, damage, vandalism','Destruction/Damage/Vandalism of Property')           \n",
    "crime_data['NIBRS Description']=crime_data['NIBRS Description'].replace('Drug, narcotic violations','Drug/Narcotic Violations')\n",
    "crime_data['NIBRS Description']=crime_data['NIBRS Description'].replace('Counterfeiting, forgery','Counterfeiting/Forgery')\n",
    "\n",
    "crime_data['NIBRS Description']=crime_data['NIBRS Description'].replace('Identify theft','Burglary/Breaking & Entering')\n",
    "\n",
    "crime_data['NIBRS Description']=crime_data['NIBRS Description'].replace('Family offenses, no violence','Family Offenses/Nonviolent')\n",
    "crime_data['NIBRS Description']=crime_data['NIBRS Description'].replace('Human Trafficking/Commercial Sex Act','Assisting or promoting prostitution')\n",
    "\n",
    "\n",
    "crime_data['NIBRS Description']=crime_data['NIBRS Description'].replace('Kidnapping, Abduction','Kidnapping/Abduction')\n",
    "crime_data['NIBRS Description']=crime_data['NIBRS Description'].replace('Curfew, loitering, vagrancy violations','Curfew/Loitering/Vagrancy Violations')\n",
    "crime_data['NIBRS Description']=crime_data['NIBRS Description'].replace('Kidnapping, abduction','Kidnapping/Abduction')\n",
    "crime_data['NIBRS Description']=crime_data['NIBRS Description'].replace('Murder, non-negligent', 'Murder & nonnegligent manslaughter')\n",
    "\n",
    "crime_data['NIBRS Description']=crime_data['NIBRS Description'].replace('Extortion, Blackmail','Extortion/Blackmail')\n",
    "crime_data['NIBRS Description']=crime_data['NIBRS Description'].replace('Counterfeiting, forgery','Counterfeiting/Forgery')\n",
    "crime_data['NIBRS Description']=crime_data['NIBRS Description'].replace('Credit card, ATM fraud','Credit Card/ATM Fraud')\n",
    "crime_data['NIBRS Description']=crime_data['NIBRS Description'].replace('Theft','Theft/All other Larceny')\n",
    "crime_data['NIBRS Description']=crime_data['NIBRS Description'].replace('Auto Theft','Theft from motor vehicle')\n",
    "crime_data['NIBRS Description']=crime_data['NIBRS Description'].replace('Murder', 'Murder & nonnegligent manslaughter')\n",
    "\n",
    "crime_data['NIBRS Description']=crime_data['NIBRS Description'].replace('1','Unknown')\n",
    "crime_data['NIBRS Description']=crime_data['NIBRS Description'].replace('Rape','Forcible rape')\n",
    "crime_data['NIBRS Description']=crime_data['NIBRS Description'].replace('AutoTheft','Theft from motor vehicle')\n",
    "crime_data['NIBRS Description']=crime_data['NIBRS Description'].replace('From coin-operated machine or device','Theft from coin-operated machine or device')\n",
    "crime_data['NIBRS Description']=crime_data['NIBRS Description'].replace('Promoting gambling','Operating/Promoting/Assisting Gambling')"
   ]
  },
  {
   "cell_type": "code",
   "execution_count": 47,
   "id": "cfa5f949",
   "metadata": {},
   "outputs": [
    {
     "data": {
      "text/plain": [
       "array(['Theft/All other Larceny', 'Burglary', 'Robbery',\n",
       "       'Theft from motor vehicle', 'Aggravated Assault', 'Forcible rape',\n",
       "       'Murder & nonnegligent manslaughter', 'Unkonwn', 'Simple assault',\n",
       "       'All other offenses', 'Destruction/Damage/Vandalism of Property',\n",
       "       'Shoplifting', 'Motor vehicle theft', 'Theft from building',\n",
       "       'Burglary/Breaking & Entering',\n",
       "       'False Pretenses/Swindle/Confidence Game', 'Intimidation',\n",
       "       'Purse-snatching', 'All other larceny',\n",
       "       'Theft of motor vehicle parts or accessory',\n",
       "       'Weapon law violations', 'Drug/Narcotic Violations',\n",
       "       'Trespass of real property', 'Pocket-picking',\n",
       "       'Counterfeiting/Forgery', 'Credit Card/ATM Fraud',\n",
       "       'Animal Cruelty', 'Family Offenses/Nonviolent',\n",
       "       'Driving under the influence', 'Impersonation', 'Bad checks',\n",
       "       'Statutory rape', 'Disorderly conduct',\n",
       "       'Drug equipment violations', 'Stolen property offenses',\n",
       "       'Drunkenness', 'Prostitution', 'Extortion/Blackmail',\n",
       "       'Assisting or promoting prostitution', 'Forcible sodomy',\n",
       "       'Embezzlement', 'Forcible fondling', 'Hacking/Computer Invasion',\n",
       "       'Peeping tom', 'Liquor law violations', 'Wire fraud', 'Arson',\n",
       "       'Pornography/Obscene Material',\n",
       "       'Theft from coin-operated machine or device',\n",
       "       'Gambling equipment violations', 'Purchasing prostitution',\n",
       "       'Kidnapping/Abduction', 'Welfare fraud', 'Runaway', 'Bribery',\n",
       "       'Sexual assault with an object',\n",
       "       'Human Trafficking/Involuntary Servitude',\n",
       "       'Negligent manslaughter', 'Curfew/Loitering/Vagrancy Violations',\n",
       "       'Betting/wagering', 'Operating/Promoting/Assisting Gambling',\n",
       "       'Incest', 'Justifiable homicide'], dtype=object)"
      ]
     },
     "execution_count": 47,
     "metadata": {},
     "output_type": "execute_result"
    }
   ],
   "source": [
    "crime_data['NIBRS Description'].unique()"
   ]
  },
  {
   "cell_type": "code",
   "execution_count": 48,
   "id": "f283f1db",
   "metadata": {},
   "outputs": [
    {
     "data": {
      "text/html": [
       "<div>\n",
       "<style scoped>\n",
       "    .dataframe tbody tr th:only-of-type {\n",
       "        vertical-align: middle;\n",
       "    }\n",
       "\n",
       "    .dataframe tbody tr th {\n",
       "        vertical-align: top;\n",
       "    }\n",
       "\n",
       "    .dataframe thead th {\n",
       "        text-align: right;\n",
       "    }\n",
       "</style>\n",
       "<table border=\"1\" class=\"dataframe\">\n",
       "  <thead>\n",
       "    <tr style=\"text-align: right;\">\n",
       "      <th></th>\n",
       "      <th>Offense Code</th>\n",
       "      <th>Offense Description</th>\n",
       "      <th>Crime Against</th>\n",
       "      <th>NIBRS Offenses</th>\n",
       "    </tr>\n",
       "  </thead>\n",
       "  <tbody>\n",
       "    <tr>\n",
       "      <th>0</th>\n",
       "      <td>13A</td>\n",
       "      <td>Aggravated Assault</td>\n",
       "      <td>Person</td>\n",
       "      <td>Assault Offenses</td>\n",
       "    </tr>\n",
       "    <tr>\n",
       "      <th>1</th>\n",
       "      <td>23H</td>\n",
       "      <td>Theft/All other Larceny</td>\n",
       "      <td>Property</td>\n",
       "      <td>Larceny/Theft Offenses</td>\n",
       "    </tr>\n",
       "    <tr>\n",
       "      <th>2</th>\n",
       "      <td>90Z</td>\n",
       "      <td>All other offenses</td>\n",
       "      <td>Person/Property/Society</td>\n",
       "      <td>All Other Offenses</td>\n",
       "    </tr>\n",
       "    <tr>\n",
       "      <th>3</th>\n",
       "      <td>200</td>\n",
       "      <td>Arson</td>\n",
       "      <td>Property</td>\n",
       "      <td>Arson</td>\n",
       "    </tr>\n",
       "    <tr>\n",
       "      <th>4</th>\n",
       "      <td>40B</td>\n",
       "      <td>Assisting or promoting prostitution</td>\n",
       "      <td>Society</td>\n",
       "      <td>Prostitution Offenses</td>\n",
       "    </tr>\n",
       "  </tbody>\n",
       "</table>\n",
       "</div>"
      ],
      "text/plain": [
       "  Offense Code                   Offense Description  \\\n",
       "0          13A                    Aggravated Assault   \n",
       "1          23H               Theft/All other Larceny   \n",
       "2          90Z                    All other offenses   \n",
       "3          200                                 Arson   \n",
       "4          40B   Assisting or promoting prostitution   \n",
       "\n",
       "              Crime Against          NIBRS Offenses  \n",
       "0                    Person        Assault Offenses  \n",
       "1                  Property  Larceny/Theft Offenses  \n",
       "2   Person/Property/Society      All Other Offenses  \n",
       "3                  Property                   Arson  \n",
       "4                   Society   Prostitution Offenses  "
      ]
     },
     "execution_count": 48,
     "metadata": {},
     "output_type": "execute_result"
    }
   ],
   "source": [
    "# reading the offensecode provied in material\n",
    "offense_code=pd.read_csv(\"offense_codenew.csv\")\n",
    "offense_code.head()"
   ]
  },
  {
   "cell_type": "code",
   "execution_count": 49,
   "id": "c903e421",
   "metadata": {},
   "outputs": [
    {
     "data": {
      "text/html": [
       "<div>\n",
       "<style scoped>\n",
       "    .dataframe tbody tr th:only-of-type {\n",
       "        vertical-align: middle;\n",
       "    }\n",
       "\n",
       "    .dataframe tbody tr th {\n",
       "        vertical-align: top;\n",
       "    }\n",
       "\n",
       "    .dataframe thead th {\n",
       "        text-align: right;\n",
       "    }\n",
       "</style>\n",
       "<table border=\"1\" class=\"dataframe\">\n",
       "  <thead>\n",
       "    <tr style=\"text-align: right;\">\n",
       "      <th></th>\n",
       "      <th>Offense Code</th>\n",
       "      <th>Offense Description</th>\n",
       "      <th>Crime Against</th>\n",
       "      <th>NIBRS Offenses</th>\n",
       "    </tr>\n",
       "  </thead>\n",
       "  <tbody>\n",
       "    <tr>\n",
       "      <th>66</th>\n",
       "      <td>26G</td>\n",
       "      <td>Hacking /Computer Invasion</td>\n",
       "      <td>Property/Person/Society</td>\n",
       "      <td>Extortion/Blackmail</td>\n",
       "    </tr>\n",
       "    <tr>\n",
       "      <th>67</th>\n",
       "      <td>23F</td>\n",
       "      <td>Theft From motor vehicle</td>\n",
       "      <td>Property</td>\n",
       "      <td>Larceny/Theft Offenses</td>\n",
       "    </tr>\n",
       "    <tr>\n",
       "      <th>68</th>\n",
       "      <td>23H</td>\n",
       "      <td>All other larceny</td>\n",
       "      <td>Property</td>\n",
       "      <td>Larceny/Theft Offenses</td>\n",
       "    </tr>\n",
       "    <tr>\n",
       "      <th>69</th>\n",
       "      <td>23F</td>\n",
       "      <td>Theft from motor vehicle</td>\n",
       "      <td>Property</td>\n",
       "      <td>Larceny/Theft Offenses</td>\n",
       "    </tr>\n",
       "    <tr>\n",
       "      <th>70</th>\n",
       "      <td>Unknown</td>\n",
       "      <td>Unkonwn</td>\n",
       "      <td>Unknown</td>\n",
       "      <td>Unknown</td>\n",
       "    </tr>\n",
       "  </tbody>\n",
       "</table>\n",
       "</div>"
      ],
      "text/plain": [
       "   Offense Code         Offense Description             Crime Against  \\\n",
       "66          26G  Hacking /Computer Invasion   Property/Person/Society   \n",
       "67          23F    Theft From motor vehicle                  Property   \n",
       "68          23H           All other larceny                  Property   \n",
       "69          23F    Theft from motor vehicle                  Property   \n",
       "70      Unknown                     Unkonwn                   Unknown   \n",
       "\n",
       "            NIBRS Offenses  \n",
       "66     Extortion/Blackmail  \n",
       "67  Larceny/Theft Offenses  \n",
       "68  Larceny/Theft Offenses  \n",
       "69  Larceny/Theft Offenses  \n",
       "70                 Unknown  "
      ]
     },
     "execution_count": 49,
     "metadata": {},
     "output_type": "execute_result"
    }
   ],
   "source": [
    "offense_code.tail()"
   ]
  },
  {
   "cell_type": "code",
   "execution_count": 50,
   "id": "a079c5e9",
   "metadata": {},
   "outputs": [
    {
     "data": {
      "text/html": [
       "<div>\n",
       "<style scoped>\n",
       "    .dataframe tbody tr th:only-of-type {\n",
       "        vertical-align: middle;\n",
       "    }\n",
       "\n",
       "    .dataframe tbody tr th {\n",
       "        vertical-align: top;\n",
       "    }\n",
       "\n",
       "    .dataframe thead th {\n",
       "        text-align: right;\n",
       "    }\n",
       "</style>\n",
       "<table border=\"1\" class=\"dataframe\">\n",
       "  <thead>\n",
       "    <tr style=\"text-align: right;\">\n",
       "      <th></th>\n",
       "      <th>Offense Code</th>\n",
       "      <th>Offense Description</th>\n",
       "      <th>Crime Against</th>\n",
       "      <th>NIBRS Offenses</th>\n",
       "    </tr>\n",
       "  </thead>\n",
       "  <tbody>\n",
       "    <tr>\n",
       "      <th>0</th>\n",
       "      <td>13A</td>\n",
       "      <td>Aggravated Assault</td>\n",
       "      <td>Person</td>\n",
       "      <td>Assault Offenses</td>\n",
       "    </tr>\n",
       "    <tr>\n",
       "      <th>1</th>\n",
       "      <td>23H</td>\n",
       "      <td>Theft/All other Larceny</td>\n",
       "      <td>Property</td>\n",
       "      <td>Larceny/Theft Offenses</td>\n",
       "    </tr>\n",
       "    <tr>\n",
       "      <th>2</th>\n",
       "      <td>90Z</td>\n",
       "      <td>All other offenses</td>\n",
       "      <td>Person/Property/Society</td>\n",
       "      <td>All Other Offenses</td>\n",
       "    </tr>\n",
       "    <tr>\n",
       "      <th>3</th>\n",
       "      <td>200</td>\n",
       "      <td>Arson</td>\n",
       "      <td>Property</td>\n",
       "      <td>Arson</td>\n",
       "    </tr>\n",
       "    <tr>\n",
       "      <th>4</th>\n",
       "      <td>40B</td>\n",
       "      <td>Assisting or promoting prostitution</td>\n",
       "      <td>Society</td>\n",
       "      <td>Prostitution Offenses</td>\n",
       "    </tr>\n",
       "  </tbody>\n",
       "</table>\n",
       "</div>"
      ],
      "text/plain": [
       "  Offense Code                   Offense Description  \\\n",
       "0          13A                    Aggravated Assault   \n",
       "1          23H               Theft/All other Larceny   \n",
       "2          90Z                    All other offenses   \n",
       "3          200                                 Arson   \n",
       "4          40B   Assisting or promoting prostitution   \n",
       "\n",
       "              Crime Against          NIBRS Offenses  \n",
       "0                    Person        Assault Offenses  \n",
       "1                  Property  Larceny/Theft Offenses  \n",
       "2   Person/Property/Society      All Other Offenses  \n",
       "3                  Property                   Arson  \n",
       "4                   Society   Prostitution Offenses  "
      ]
     },
     "execution_count": 50,
     "metadata": {},
     "output_type": "execute_result"
    }
   ],
   "source": [
    "# removing white spaces from column names\n",
    "offense_code.columns=offense_code.columns.map(lambda x: x.strip())\n",
    "offense_code.head()"
   ]
  },
  {
   "cell_type": "code",
   "execution_count": 51,
   "id": "cbc656d4",
   "metadata": {},
   "outputs": [
    {
     "data": {
      "text/plain": [
       "Index(['Offense Code', 'NIBRS Description', 'Crime Against',\n",
       "       'Offense Category'],\n",
       "      dtype='object')"
      ]
     },
     "execution_count": 51,
     "metadata": {},
     "output_type": "execute_result"
    }
   ],
   "source": [
    "#replacing column name according to crime data \n",
    "offense_code.rename(columns={\"Offense Description\":\"NIBRS Description\"},inplace=True)\n",
    "offense_code.rename(columns={\"NIBRS Offenses\":\"Offense Category\"},inplace=True)\n",
    "offense_code.columns"
   ]
  },
  {
   "cell_type": "code",
   "execution_count": 52,
   "id": "460e1b63",
   "metadata": {},
   "outputs": [],
   "source": [
    "# removing white spaces from NIBRS description\n",
    "offense_code['NIBRS Description']=offense_code['NIBRS Description'].map(lambda x: str(x).strip())"
   ]
  },
  {
   "cell_type": "code",
   "execution_count": 53,
   "id": "002e8c10",
   "metadata": {},
   "outputs": [
    {
     "data": {
      "text/plain": [
       "array(['Aggravated Assault', 'Theft/All other Larceny',\n",
       "       'All other offenses', 'Arson',\n",
       "       'Assisting or promoting prostitution', 'Bad checks',\n",
       "       'Betting/wagering', 'Bribery', 'Burglary/Breaking & Entering',\n",
       "       'Counterfeiting/Forgery', 'Credit Card/ATM Fraud',\n",
       "       'Curfew/Loitering/Vagrancy Violations',\n",
       "       'Destruction/Damage/Vandalism of Property', 'Disorderly conduct',\n",
       "       'Driving under the influence', 'Drug equipment violations',\n",
       "       'Drug/Narcotic Violations', 'Drunkenness', 'Embezzlement',\n",
       "       'Extortion/Blackmail', 'False Pretenses/Swindle/Confidence Game',\n",
       "       'Family Offenses/Nonviolent', 'Forcible fondling', 'Forcible rape',\n",
       "       'Forcible sodomy', 'Gambling equipment violations',\n",
       "       'Impersonation', 'Incest', 'Intimidation', 'Justifiable homicide',\n",
       "       'Kidnapping/Abduction', 'Liquor law violations',\n",
       "       'Motor vehicle theft', 'Murder & nonnegligent manslaughter',\n",
       "       'Negligent manslaughter', 'Operating/Promoting/Assisting Gambling',\n",
       "       'Peeping tom', 'Pocket-picking', 'Pornography/Obscene Material',\n",
       "       'Prostitution', 'Purse-snatching', 'Robbery', 'Runaway',\n",
       "       'Sexual assault with an object', 'Shoplifting', 'Simple assault',\n",
       "       'Sports tampering', 'Statutory rape', 'Stolen property offenses',\n",
       "       'Theft from building',\n",
       "       'Theft from coin-operated machine or device',\n",
       "       'Theft From motor vehicle',\n",
       "       'Theft of motor vehicle parts or accessory',\n",
       "       'Trespass of real property', 'Weapon law violations',\n",
       "       'Welfare fraud', 'Wire fraud', 'Burglary', 'Animal Cruelty',\n",
       "       'Identity theft', 'Hacking/Computer Invasion',\n",
       "       'Human Trafficking/Commercial Sex Act',\n",
       "       'Human Trafficking/Involuntary Servitude',\n",
       "       'Purchasing prostitution', 'Unknown', 'All other Larceny',\n",
       "       'Hacking /Computer Invasion', 'All other larceny',\n",
       "       'Theft from motor vehicle', 'Unkonwn'], dtype=object)"
      ]
     },
     "execution_count": 53,
     "metadata": {},
     "output_type": "execute_result"
    }
   ],
   "source": [
    "offense_code['NIBRS Description'].unique()"
   ]
  },
  {
   "cell_type": "code",
   "execution_count": 54,
   "id": "e672fcf8",
   "metadata": {},
   "outputs": [],
   "source": [
    "Cdata = pd.merge(crime_data, offense_code,how=\"left\", on='NIBRS Description')"
   ]
  },
  {
   "cell_type": "code",
   "execution_count": 55,
   "id": "fd8181b6",
   "metadata": {},
   "outputs": [
    {
     "data": {
      "text/plain": [
       "Index(['Occurrence Date', 'Occurrence Hour', 'NIBRS Description',\n",
       "       'Offense Count', 'Beat', 'Premise', 'Block Range', 'Street Name',\n",
       "       'Street Type', 'Suffix', 'Incident', 'NIBRS Class', 'City', 'ZIP Code',\n",
       "       'Street No', 'MapLongitude', 'MapLatitude', 'NIBRS DescriptionOrg',\n",
       "       'Offense Code', 'Crime Against', 'Offense Category'],\n",
       "      dtype='object')"
      ]
     },
     "execution_count": 55,
     "metadata": {},
     "output_type": "execute_result"
    }
   ],
   "source": [
    "Cdata.columns"
   ]
  },
  {
   "cell_type": "code",
   "execution_count": 56,
   "id": "ef091c0f",
   "metadata": {},
   "outputs": [
    {
     "data": {
      "text/plain": [
       "Occurrence Date          0.000000\n",
       "Occurrence Hour          0.000000\n",
       "NIBRS Description        0.000000\n",
       "Offense Count            0.446872\n",
       "Beat                     0.041176\n",
       "Premise                  1.453438\n",
       "Block Range             28.039183\n",
       "Street Name              0.000043\n",
       "Street Type              4.215201\n",
       "Suffix                  46.510067\n",
       "Incident                51.830830\n",
       "NIBRS Class             51.830830\n",
       "City                    51.830830\n",
       "ZIP Code                52.416921\n",
       "Street No               72.155473\n",
       "MapLongitude            83.002969\n",
       "MapLatitude             83.002969\n",
       "NIBRS DescriptionOrg     0.000000\n",
       "Offense Code             0.000000\n",
       "Crime Against            0.000000\n",
       "Offense Category         0.000000\n",
       "dtype: float64"
      ]
     },
     "execution_count": 56,
     "metadata": {},
     "output_type": "execute_result"
    }
   ],
   "source": [
    "Cdata.isnull().mean()*100"
   ]
  },
  {
   "cell_type": "code",
   "execution_count": 45,
   "id": "8d667651",
   "metadata": {},
   "outputs": [
    {
     "data": {
      "text/plain": [
       "array(['Unkonwn'], dtype=object)"
      ]
     },
     "execution_count": 45,
     "metadata": {},
     "output_type": "execute_result"
    }
   ],
   "source": [
    "Cdata['NIBRS Description'][Cdata['Offense Code'].isnull()].unique()"
   ]
  },
  {
   "cell_type": "code",
   "execution_count": 57,
   "id": "19d86216",
   "metadata": {},
   "outputs": [],
   "source": [
    "#remove unneccessary columns\n",
    "Cdata.drop([\"NIBRS Description\",\"Suffix\",'NIBRS Class','Incident','NIBRS Class','City','ZIP Code','Street No',\n",
    "           'MapLongitude','MapLatitude'],inplace=True,axis=1)\n"
   ]
  },
  {
   "cell_type": "code",
   "execution_count": 58,
   "id": "e4102817",
   "metadata": {},
   "outputs": [
    {
     "data": {
      "text/html": [
       "<div>\n",
       "<style scoped>\n",
       "    .dataframe tbody tr th:only-of-type {\n",
       "        vertical-align: middle;\n",
       "    }\n",
       "\n",
       "    .dataframe tbody tr th {\n",
       "        vertical-align: top;\n",
       "    }\n",
       "\n",
       "    .dataframe thead th {\n",
       "        text-align: right;\n",
       "    }\n",
       "</style>\n",
       "<table border=\"1\" class=\"dataframe\">\n",
       "  <thead>\n",
       "    <tr style=\"text-align: right;\">\n",
       "      <th></th>\n",
       "      <th>Occurrence Date</th>\n",
       "      <th>Occurrence Hour</th>\n",
       "      <th>Offense Count</th>\n",
       "      <th>Beat</th>\n",
       "      <th>Premise</th>\n",
       "      <th>Block Range</th>\n",
       "      <th>Street Name</th>\n",
       "      <th>Street Type</th>\n",
       "      <th>NIBRS DescriptionOrg</th>\n",
       "      <th>Offense Code</th>\n",
       "      <th>Crime Against</th>\n",
       "      <th>Offense Category</th>\n",
       "    </tr>\n",
       "  </thead>\n",
       "  <tbody>\n",
       "    <tr>\n",
       "      <th>0</th>\n",
       "      <td>2010-01-01</td>\n",
       "      <td>8.0</td>\n",
       "      <td>1.0</td>\n",
       "      <td>3B10</td>\n",
       "      <td>20R</td>\n",
       "      <td>4900-4999</td>\n",
       "      <td>POINCIANA</td>\n",
       "      <td>DR</td>\n",
       "      <td>Theft</td>\n",
       "      <td>23H</td>\n",
       "      <td>Property</td>\n",
       "      <td>Larceny/Theft Offenses</td>\n",
       "    </tr>\n",
       "    <tr>\n",
       "      <th>1</th>\n",
       "      <td>2010-01-01</td>\n",
       "      <td>18.0</td>\n",
       "      <td>1.0</td>\n",
       "      <td>5F20</td>\n",
       "      <td>20D</td>\n",
       "      <td>8700-8799</td>\n",
       "      <td>HAMMERLY</td>\n",
       "      <td>-</td>\n",
       "      <td>Theft</td>\n",
       "      <td>23H</td>\n",
       "      <td>Property</td>\n",
       "      <td>Larceny/Theft Offenses</td>\n",
       "    </tr>\n",
       "    <tr>\n",
       "      <th>2</th>\n",
       "      <td>2010-01-01</td>\n",
       "      <td>0.0</td>\n",
       "      <td>1.0</td>\n",
       "      <td>1A10</td>\n",
       "      <td>05O</td>\n",
       "      <td>400-499</td>\n",
       "      <td>MAIN</td>\n",
       "      <td>ST</td>\n",
       "      <td>Burglary</td>\n",
       "      <td>220</td>\n",
       "      <td>Property</td>\n",
       "      <td>Burglary/B&amp;E</td>\n",
       "    </tr>\n",
       "    <tr>\n",
       "      <th>3</th>\n",
       "      <td>2010-01-01</td>\n",
       "      <td>0.0</td>\n",
       "      <td>1.0</td>\n",
       "      <td>7C10</td>\n",
       "      <td>20R</td>\n",
       "      <td>1900-1999</td>\n",
       "      <td>LOCKWOOD</td>\n",
       "      <td>DR</td>\n",
       "      <td>Theft</td>\n",
       "      <td>23H</td>\n",
       "      <td>Property</td>\n",
       "      <td>Larceny/Theft Offenses</td>\n",
       "    </tr>\n",
       "    <tr>\n",
       "      <th>4</th>\n",
       "      <td>2010-01-01</td>\n",
       "      <td>10.0</td>\n",
       "      <td>1.0</td>\n",
       "      <td>18F20</td>\n",
       "      <td>18A</td>\n",
       "      <td>3300-3399</td>\n",
       "      <td>MCCUE</td>\n",
       "      <td>RD</td>\n",
       "      <td>Theft</td>\n",
       "      <td>23H</td>\n",
       "      <td>Property</td>\n",
       "      <td>Larceny/Theft Offenses</td>\n",
       "    </tr>\n",
       "  </tbody>\n",
       "</table>\n",
       "</div>"
      ],
      "text/plain": [
       "  Occurrence Date Occurrence Hour  Offense Count   Beat Premise Block Range  \\\n",
       "0      2010-01-01             8.0            1.0   3B10     20R   4900-4999   \n",
       "1      2010-01-01            18.0            1.0   5F20     20D   8700-8799   \n",
       "2      2010-01-01             0.0            1.0   1A10     05O     400-499   \n",
       "3      2010-01-01             0.0            1.0   7C10     20R   1900-1999   \n",
       "4      2010-01-01            10.0            1.0  18F20     18A   3300-3399   \n",
       "\n",
       "  Street Name Street Type NIBRS DescriptionOrg Offense Code Crime Against  \\\n",
       "0   POINCIANA          DR                Theft          23H      Property   \n",
       "1    HAMMERLY           -                Theft          23H      Property   \n",
       "2        MAIN          ST             Burglary          220      Property   \n",
       "3    LOCKWOOD          DR                Theft          23H      Property   \n",
       "4       MCCUE          RD                Theft          23H      Property   \n",
       "\n",
       "         Offense Category  \n",
       "0  Larceny/Theft Offenses  \n",
       "1  Larceny/Theft Offenses  \n",
       "2            Burglary/B&E  \n",
       "3  Larceny/Theft Offenses  \n",
       "4  Larceny/Theft Offenses  "
      ]
     },
     "execution_count": 58,
     "metadata": {},
     "output_type": "execute_result"
    }
   ],
   "source": [
    "Cdata.head()"
   ]
  },
  {
   "cell_type": "code",
   "execution_count": 59,
   "id": "ce0edad7",
   "metadata": {},
   "outputs": [
    {
     "data": {
      "text/plain": [
       "array(['DR', '-', 'ST', 'RD', 'FWY', 'LN', 'FWY SER', 'CT', 'AVE', 'BLVD',\n",
       "       'SER', 'CIR', 'PKWY', 'TRL', 'WAY', 'HWY', 'PL', 'LP', 'BYP',\n",
       "       'PASS', 'GRN', 'VIEW', 'RAMP', 'BND', 'PATH', 'WALK', 'BLVD ',\n",
       "       'COVE', 'SQ', 'UTRN', 'MNR', 'PRK', 'TER', 'RD   ', 'RDG', 'PT',\n",
       "       'ST   ', 'DR   ', 'PKWY ', 'FWY  ', 'AVE  ', 'CIR  ', 'LN   ',\n",
       "       'WAY  ', 'CT   ', 'TRL  ', 'HWY  ', 'PATH ', 'PL   ', 'LP   ',\n",
       "       'COVE ', 'PASS ', 'SPUR', 'XING', nan, 'VW', 'TRCE'], dtype=object)"
      ]
     },
     "execution_count": 59,
     "metadata": {},
     "output_type": "execute_result"
    }
   ],
   "source": [
    "Cdata[\"Street Type\"].unique()"
   ]
  },
  {
   "cell_type": "code",
   "execution_count": 60,
   "id": "44406d92",
   "metadata": {},
   "outputs": [],
   "source": [
    "Cdata[\"Street Type\"]=Cdata[\"Street Type\"].replace('-', 'Unknown')"
   ]
  },
  {
   "cell_type": "code",
   "execution_count": 61,
   "id": "61440c1f",
   "metadata": {},
   "outputs": [],
   "source": [
    "Cdata[\"Street Type\"]=Cdata[\"Street Type\"].fillna('Unknown')"
   ]
  },
  {
   "cell_type": "code",
   "execution_count": 62,
   "id": "a1bb5ad1",
   "metadata": {},
   "outputs": [],
   "source": [
    "Cdata[\"Street Type\"]=Cdata[\"Street Type\"].map(lambda x:x.strip())"
   ]
  },
  {
   "cell_type": "code",
   "execution_count": 63,
   "id": "015003f3",
   "metadata": {},
   "outputs": [
    {
     "data": {
      "text/html": [
       "<div>\n",
       "<style scoped>\n",
       "    .dataframe tbody tr th:only-of-type {\n",
       "        vertical-align: middle;\n",
       "    }\n",
       "\n",
       "    .dataframe tbody tr th {\n",
       "        vertical-align: top;\n",
       "    }\n",
       "\n",
       "    .dataframe thead th {\n",
       "        text-align: right;\n",
       "    }\n",
       "</style>\n",
       "<table border=\"1\" class=\"dataframe\">\n",
       "  <thead>\n",
       "    <tr style=\"text-align: right;\">\n",
       "      <th></th>\n",
       "      <th>Missing Values %</th>\n",
       "    </tr>\n",
       "  </thead>\n",
       "  <tbody>\n",
       "    <tr>\n",
       "      <th>Occurrence Date</th>\n",
       "      <td>0.000000</td>\n",
       "    </tr>\n",
       "    <tr>\n",
       "      <th>Occurrence Hour</th>\n",
       "      <td>0.000000</td>\n",
       "    </tr>\n",
       "    <tr>\n",
       "      <th>Offense Count</th>\n",
       "      <td>0.446872</td>\n",
       "    </tr>\n",
       "    <tr>\n",
       "      <th>Beat</th>\n",
       "      <td>0.041176</td>\n",
       "    </tr>\n",
       "    <tr>\n",
       "      <th>Premise</th>\n",
       "      <td>1.453438</td>\n",
       "    </tr>\n",
       "    <tr>\n",
       "      <th>Block Range</th>\n",
       "      <td>28.039183</td>\n",
       "    </tr>\n",
       "    <tr>\n",
       "      <th>Street Name</th>\n",
       "      <td>0.000043</td>\n",
       "    </tr>\n",
       "    <tr>\n",
       "      <th>Street Type</th>\n",
       "      <td>0.000000</td>\n",
       "    </tr>\n",
       "    <tr>\n",
       "      <th>NIBRS DescriptionOrg</th>\n",
       "      <td>0.000000</td>\n",
       "    </tr>\n",
       "    <tr>\n",
       "      <th>Offense Code</th>\n",
       "      <td>0.000000</td>\n",
       "    </tr>\n",
       "    <tr>\n",
       "      <th>Crime Against</th>\n",
       "      <td>0.000000</td>\n",
       "    </tr>\n",
       "    <tr>\n",
       "      <th>Offense Category</th>\n",
       "      <td>0.000000</td>\n",
       "    </tr>\n",
       "  </tbody>\n",
       "</table>\n",
       "</div>"
      ],
      "text/plain": [
       "                      Missing Values %\n",
       "Occurrence Date               0.000000\n",
       "Occurrence Hour               0.000000\n",
       "Offense Count                 0.446872\n",
       "Beat                          0.041176\n",
       "Premise                       1.453438\n",
       "Block Range                  28.039183\n",
       "Street Name                   0.000043\n",
       "Street Type                   0.000000\n",
       "NIBRS DescriptionOrg          0.000000\n",
       "Offense Code                  0.000000\n",
       "Crime Against                 0.000000\n",
       "Offense Category              0.000000"
      ]
     },
     "execution_count": 63,
     "metadata": {},
     "output_type": "execute_result"
    }
   ],
   "source": [
    "missing_data = pd.DataFrame(Cdata.isnull().mean()*100, columns=[\"Missing Values %\"])\n",
    "missing_data"
   ]
  },
  {
   "cell_type": "code",
   "execution_count": 64,
   "id": "9fcf6189",
   "metadata": {},
   "outputs": [],
   "source": [
    "#we can also drop Block Range\n",
    "Cdata.drop([\"Block Range\"],inplace=True,axis=1)"
   ]
  },
  {
   "cell_type": "code",
   "execution_count": 73,
   "id": "4e96645f",
   "metadata": {},
   "outputs": [],
   "source": [
    "Cdata.rename(columns = {'Occurrence Date':'Date'}, inplace = True)"
   ]
  },
  {
   "cell_type": "code",
   "execution_count": 101,
   "id": "1fd21f7d",
   "metadata": {},
   "outputs": [
    {
     "data": {
      "text/html": [
       "<div>\n",
       "<style scoped>\n",
       "    .dataframe tbody tr th:only-of-type {\n",
       "        vertical-align: middle;\n",
       "    }\n",
       "\n",
       "    .dataframe tbody tr th {\n",
       "        vertical-align: top;\n",
       "    }\n",
       "\n",
       "    .dataframe thead th {\n",
       "        text-align: right;\n",
       "    }\n",
       "</style>\n",
       "<table border=\"1\" class=\"dataframe\">\n",
       "  <thead>\n",
       "    <tr style=\"text-align: right;\">\n",
       "      <th></th>\n",
       "      <th>Date</th>\n",
       "      <th>Occurrence Hour</th>\n",
       "      <th>Offense Count</th>\n",
       "      <th>Beat</th>\n",
       "      <th>Premise</th>\n",
       "      <th>Street Name</th>\n",
       "      <th>Street Type</th>\n",
       "      <th>NIBRS DescriptionOrg</th>\n",
       "      <th>Offense Code</th>\n",
       "      <th>Crime Against</th>\n",
       "      <th>Offense Category</th>\n",
       "    </tr>\n",
       "  </thead>\n",
       "  <tbody>\n",
       "    <tr>\n",
       "      <th>0</th>\n",
       "      <td>2010-01-01</td>\n",
       "      <td>8.0</td>\n",
       "      <td>1.0</td>\n",
       "      <td>3B10</td>\n",
       "      <td>20R</td>\n",
       "      <td>POINCIANA</td>\n",
       "      <td>DR</td>\n",
       "      <td>Theft</td>\n",
       "      <td>23H</td>\n",
       "      <td>Property</td>\n",
       "      <td>Larceny/Theft Offenses</td>\n",
       "    </tr>\n",
       "    <tr>\n",
       "      <th>1</th>\n",
       "      <td>2010-01-01</td>\n",
       "      <td>18.0</td>\n",
       "      <td>1.0</td>\n",
       "      <td>5F20</td>\n",
       "      <td>20D</td>\n",
       "      <td>HAMMERLY</td>\n",
       "      <td>Unknown</td>\n",
       "      <td>Theft</td>\n",
       "      <td>23H</td>\n",
       "      <td>Property</td>\n",
       "      <td>Larceny/Theft Offenses</td>\n",
       "    </tr>\n",
       "  </tbody>\n",
       "</table>\n",
       "</div>"
      ],
      "text/plain": [
       "        Date Occurrence Hour  Offense Count  Beat Premise Street Name  \\\n",
       "0 2010-01-01             8.0            1.0  3B10     20R   POINCIANA   \n",
       "1 2010-01-01            18.0            1.0  5F20     20D    HAMMERLY   \n",
       "\n",
       "  Street Type NIBRS DescriptionOrg Offense Code Crime Against  \\\n",
       "0          DR                Theft          23H      Property   \n",
       "1     Unknown                Theft          23H      Property   \n",
       "\n",
       "         Offense Category  \n",
       "0  Larceny/Theft Offenses  \n",
       "1  Larceny/Theft Offenses  "
      ]
     },
     "execution_count": 101,
     "metadata": {},
     "output_type": "execute_result"
    }
   ],
   "source": [
    "Cdata.head(2)"
   ]
  },
  {
   "cell_type": "code",
   "execution_count": 74,
   "id": "d19a7dc6",
   "metadata": {},
   "outputs": [],
   "source": [
    "Cdata['Date']= pd.to_datetime(Cdata['Date'],format='mixed')"
   ]
  },
  {
   "cell_type": "markdown",
   "id": "0a1e38dc",
   "metadata": {},
   "source": [
    "### treating missing values"
   ]
  },
  {
   "cell_type": "code",
   "execution_count": 100,
   "id": "3e9f35b2",
   "metadata": {},
   "outputs": [
    {
     "data": {
      "text/plain": [
       "0"
      ]
     },
     "execution_count": 100,
     "metadata": {},
     "output_type": "execute_result"
    }
   ],
   "source": [
    "#Offense Count\t0.446872\n",
    "Cdata[\"Offense Count\"]=Cdata[\"Offense Count\"].fillna(0)\n",
    "Cdata['Offense Count'].isnull().sum()"
   ]
  },
  {
   "cell_type": "code",
   "execution_count": 106,
   "id": "e1a7669a",
   "metadata": {},
   "outputs": [
    {
     "data": {
      "text/plain": [
       "0"
      ]
     },
     "execution_count": 106,
     "metadata": {},
     "output_type": "execute_result"
    }
   ],
   "source": [
    "#Beat\t0.041176\n",
    "Cdata[\"Beat\"]=Cdata['Beat'].fillna('unknown')\n",
    "Cdata['Beat'].isnull().sum()"
   ]
  },
  {
   "cell_type": "code",
   "execution_count": 107,
   "id": "7628ac7d",
   "metadata": {},
   "outputs": [
    {
     "data": {
      "text/plain": [
       "0"
      ]
     },
     "execution_count": 107,
     "metadata": {},
     "output_type": "execute_result"
    }
   ],
   "source": [
    "#Premise\t1.453438\n",
    "Cdata['Premise']=Cdata['Premise'].fillna('unknown')\n",
    "Cdata['Premise'].isnull().sum()"
   ]
  },
  {
   "cell_type": "code",
   "execution_count": 109,
   "id": "7e43f176",
   "metadata": {},
   "outputs": [
    {
     "data": {
      "text/plain": [
       "0"
      ]
     },
     "execution_count": 109,
     "metadata": {},
     "output_type": "execute_result"
    }
   ],
   "source": [
    "#Street Name\t0.000043\n",
    "Cdata['Street Name']=Cdata['Street Name'].fillna('unknown')\n",
    "Cdata['Street Name'].isnull().sum()"
   ]
  },
  {
   "cell_type": "code",
   "execution_count": 110,
   "id": "855f80a9",
   "metadata": {},
   "outputs": [
    {
     "data": {
      "text/plain": [
       "Date                    0.0\n",
       "Occurrence Hour         0.0\n",
       "Offense Count           0.0\n",
       "Beat                    0.0\n",
       "Premise                 0.0\n",
       "Street Name             0.0\n",
       "Street Type             0.0\n",
       "NIBRS DescriptionOrg    0.0\n",
       "Offense Code            0.0\n",
       "Crime Against           0.0\n",
       "Offense Category        0.0\n",
       "dtype: float64"
      ]
     },
     "execution_count": 110,
     "metadata": {},
     "output_type": "execute_result"
    }
   ],
   "source": [
    "Cdata.isnull().mean()*100"
   ]
  },
  {
   "cell_type": "markdown",
   "id": "6e4d1598",
   "metadata": {},
   "source": [
    "## Weather Data Cleaning"
   ]
  },
  {
   "cell_type": "code",
   "execution_count": 271,
   "id": "9f42bd5f",
   "metadata": {},
   "outputs": [],
   "source": [
    "weather_data=pd.read_csv('cleaned_weather.csv') "
   ]
  },
  {
   "cell_type": "code",
   "execution_count": 272,
   "id": "352e88a7",
   "metadata": {},
   "outputs": [
    {
     "data": {
      "text/html": [
       "<div>\n",
       "<style scoped>\n",
       "    .dataframe tbody tr th:only-of-type {\n",
       "        vertical-align: middle;\n",
       "    }\n",
       "\n",
       "    .dataframe tbody tr th {\n",
       "        vertical-align: top;\n",
       "    }\n",
       "\n",
       "    .dataframe thead th {\n",
       "        text-align: right;\n",
       "    }\n",
       "</style>\n",
       "<table border=\"1\" class=\"dataframe\">\n",
       "  <thead>\n",
       "    <tr style=\"text-align: right;\">\n",
       "      <th></th>\n",
       "      <th>name</th>\n",
       "      <th>datetime</th>\n",
       "      <th>tempmax</th>\n",
       "      <th>tempmin</th>\n",
       "      <th>temp</th>\n",
       "      <th>feelslikemax</th>\n",
       "      <th>feelslikemin</th>\n",
       "      <th>feelslike</th>\n",
       "      <th>dew</th>\n",
       "      <th>humidity</th>\n",
       "      <th>...</th>\n",
       "      <th>solarradiation</th>\n",
       "      <th>solarenergy</th>\n",
       "      <th>uvindex</th>\n",
       "      <th>sunrise</th>\n",
       "      <th>sunset</th>\n",
       "      <th>moonphase</th>\n",
       "      <th>conditions</th>\n",
       "      <th>description</th>\n",
       "      <th>icon</th>\n",
       "      <th>stations</th>\n",
       "    </tr>\n",
       "  </thead>\n",
       "  <tbody>\n",
       "    <tr>\n",
       "      <th>0</th>\n",
       "      <td>Houston,TX</td>\n",
       "      <td>2010-01-01</td>\n",
       "      <td>53.9</td>\n",
       "      <td>41.3</td>\n",
       "      <td>46.9</td>\n",
       "      <td>53.9</td>\n",
       "      <td>33.0</td>\n",
       "      <td>42.3</td>\n",
       "      <td>34.0</td>\n",
       "      <td>63.0</td>\n",
       "      <td>...</td>\n",
       "      <td>174.8</td>\n",
       "      <td>15.0</td>\n",
       "      <td>7.0</td>\n",
       "      <td>2010-01-01 07:16:59</td>\n",
       "      <td>2010-01-01 17:33:24</td>\n",
       "      <td>0.53</td>\n",
       "      <td>Partially cloudy</td>\n",
       "      <td>Clearing in the afternoon.</td>\n",
       "      <td>partly-cloudy-day</td>\n",
       "      <td>KHOU,72059400188,KIAH,KMCJ,72244012918,7224301...</td>\n",
       "    </tr>\n",
       "    <tr>\n",
       "      <th>1</th>\n",
       "      <td>Houston,TX</td>\n",
       "      <td>2010-02-01</td>\n",
       "      <td>53.7</td>\n",
       "      <td>40.1</td>\n",
       "      <td>46.3</td>\n",
       "      <td>53.7</td>\n",
       "      <td>34.9</td>\n",
       "      <td>43.1</td>\n",
       "      <td>30.9</td>\n",
       "      <td>56.9</td>\n",
       "      <td>...</td>\n",
       "      <td>156.6</td>\n",
       "      <td>13.4</td>\n",
       "      <td>6.0</td>\n",
       "      <td>2010-01-02 07:17:13</td>\n",
       "      <td>2010-01-02 17:34:07</td>\n",
       "      <td>0.57</td>\n",
       "      <td>Clear</td>\n",
       "      <td>Clear conditions throughout the day.</td>\n",
       "      <td>clear-day</td>\n",
       "      <td>KHOU,72059400188,KIAH,KMCJ,72244012918,7224301...</td>\n",
       "    </tr>\n",
       "  </tbody>\n",
       "</table>\n",
       "<p>2 rows × 32 columns</p>\n",
       "</div>"
      ],
      "text/plain": [
       "         name    datetime  tempmax  tempmin  temp  feelslikemax  feelslikemin  \\\n",
       "0  Houston,TX  2010-01-01     53.9     41.3  46.9          53.9          33.0   \n",
       "1  Houston,TX  2010-02-01     53.7     40.1  46.3          53.7          34.9   \n",
       "\n",
       "   feelslike   dew  humidity  ...  solarradiation  solarenergy  uvindex  \\\n",
       "0       42.3  34.0      63.0  ...           174.8         15.0      7.0   \n",
       "1       43.1  30.9      56.9  ...           156.6         13.4      6.0   \n",
       "\n",
       "               sunrise               sunset  moonphase        conditions  \\\n",
       "0  2010-01-01 07:16:59  2010-01-01 17:33:24       0.53  Partially cloudy   \n",
       "1  2010-01-02 07:17:13  2010-01-02 17:34:07       0.57             Clear   \n",
       "\n",
       "                            description               icon  \\\n",
       "0            Clearing in the afternoon.  partly-cloudy-day   \n",
       "1  Clear conditions throughout the day.          clear-day   \n",
       "\n",
       "                                            stations  \n",
       "0  KHOU,72059400188,KIAH,KMCJ,72244012918,7224301...  \n",
       "1  KHOU,72059400188,KIAH,KMCJ,72244012918,7224301...  \n",
       "\n",
       "[2 rows x 32 columns]"
      ]
     },
     "execution_count": 272,
     "metadata": {},
     "output_type": "execute_result"
    }
   ],
   "source": [
    "weather_data.head(2)"
   ]
  },
  {
   "cell_type": "code",
   "execution_count": 273,
   "id": "1023dfc2",
   "metadata": {},
   "outputs": [],
   "source": [
    "# no need of name column\n",
    "weather_data.drop('name',axis=1,inplace=True)"
   ]
  },
  {
   "cell_type": "code",
   "execution_count": 274,
   "id": "03f08e64",
   "metadata": {},
   "outputs": [],
   "source": [
    "# no need of name column\n",
    "weather_data.drop(['icon','stations'],axis=1,inplace=True)"
   ]
  },
  {
   "cell_type": "code",
   "execution_count": 275,
   "id": "9199b223",
   "metadata": {},
   "outputs": [],
   "source": [
    "# changing name for dattime so that we can merge with common column\n",
    "weather_data.rename(columns = {'datetime':'Date'}, inplace = True)"
   ]
  },
  {
   "cell_type": "code",
   "execution_count": 277,
   "id": "6a704a2b",
   "metadata": {},
   "outputs": [],
   "source": [
    "# changing date type from object to datetime\n",
    "weather_data['Date']= pd.to_datetime(weather_data['Date'],format='mixed')"
   ]
  },
  {
   "cell_type": "code",
   "execution_count": 278,
   "id": "525f396c",
   "metadata": {},
   "outputs": [
    {
     "data": {
      "text/html": [
       "<div>\n",
       "<style scoped>\n",
       "    .dataframe tbody tr th:only-of-type {\n",
       "        vertical-align: middle;\n",
       "    }\n",
       "\n",
       "    .dataframe tbody tr th {\n",
       "        vertical-align: top;\n",
       "    }\n",
       "\n",
       "    .dataframe thead th {\n",
       "        text-align: right;\n",
       "    }\n",
       "</style>\n",
       "<table border=\"1\" class=\"dataframe\">\n",
       "  <thead>\n",
       "    <tr style=\"text-align: right;\">\n",
       "      <th></th>\n",
       "      <th>Date</th>\n",
       "      <th>tempmax</th>\n",
       "      <th>tempmin</th>\n",
       "      <th>temp</th>\n",
       "      <th>feelslikemax</th>\n",
       "      <th>feelslikemin</th>\n",
       "      <th>feelslike</th>\n",
       "      <th>dew</th>\n",
       "      <th>humidity</th>\n",
       "      <th>precip</th>\n",
       "      <th>...</th>\n",
       "      <th>windgust</th>\n",
       "      <th>windspeed</th>\n",
       "      <th>winddir</th>\n",
       "      <th>sealevelpressure</th>\n",
       "      <th>cloudcover</th>\n",
       "      <th>visibility</th>\n",
       "      <th>solarradiation</th>\n",
       "      <th>solarenergy</th>\n",
       "      <th>uvindex</th>\n",
       "      <th>moonphase</th>\n",
       "    </tr>\n",
       "  </thead>\n",
       "  <tbody>\n",
       "    <tr>\n",
       "      <th>count</th>\n",
       "      <td>4991</td>\n",
       "      <td>4991.000000</td>\n",
       "      <td>4991.000000</td>\n",
       "      <td>4991.000000</td>\n",
       "      <td>4991.000000</td>\n",
       "      <td>4991.000000</td>\n",
       "      <td>4991.000000</td>\n",
       "      <td>4991.000000</td>\n",
       "      <td>4991.000000</td>\n",
       "      <td>4991.000000</td>\n",
       "      <td>...</td>\n",
       "      <td>4991.000000</td>\n",
       "      <td>4991.000000</td>\n",
       "      <td>4991.000000</td>\n",
       "      <td>4991.000000</td>\n",
       "      <td>4991.000000</td>\n",
       "      <td>4991.000000</td>\n",
       "      <td>4626.000000</td>\n",
       "      <td>4626.000000</td>\n",
       "      <td>4626.000000</td>\n",
       "      <td>4991.000000</td>\n",
       "    </tr>\n",
       "    <tr>\n",
       "      <th>mean</th>\n",
       "      <td>2016-10-31 00:00:00</td>\n",
       "      <td>80.154859</td>\n",
       "      <td>64.256021</td>\n",
       "      <td>71.393829</td>\n",
       "      <td>82.549449</td>\n",
       "      <td>63.634662</td>\n",
       "      <td>72.608856</td>\n",
       "      <td>59.667381</td>\n",
       "      <td>69.757283</td>\n",
       "      <td>0.092281</td>\n",
       "      <td>...</td>\n",
       "      <td>22.912022</td>\n",
       "      <td>14.980425</td>\n",
       "      <td>159.090603</td>\n",
       "      <td>1016.117952</td>\n",
       "      <td>45.650571</td>\n",
       "      <td>8.636085</td>\n",
       "      <td>170.791548</td>\n",
       "      <td>14.733744</td>\n",
       "      <td>6.425205</td>\n",
       "      <td>0.483041</td>\n",
       "    </tr>\n",
       "    <tr>\n",
       "      <th>min</th>\n",
       "      <td>2010-01-01 00:00:00</td>\n",
       "      <td>25.300000</td>\n",
       "      <td>12.500000</td>\n",
       "      <td>18.500000</td>\n",
       "      <td>11.800000</td>\n",
       "      <td>-4.300000</td>\n",
       "      <td>3.700000</td>\n",
       "      <td>0.000000</td>\n",
       "      <td>18.100000</td>\n",
       "      <td>0.000000</td>\n",
       "      <td>...</td>\n",
       "      <td>0.000000</td>\n",
       "      <td>0.900000</td>\n",
       "      <td>0.000000</td>\n",
       "      <td>999.400000</td>\n",
       "      <td>0.000000</td>\n",
       "      <td>0.800000</td>\n",
       "      <td>8.500000</td>\n",
       "      <td>0.500000</td>\n",
       "      <td>0.000000</td>\n",
       "      <td>0.000000</td>\n",
       "    </tr>\n",
       "    <tr>\n",
       "      <th>25%</th>\n",
       "      <td>2013-06-01 12:00:00</td>\n",
       "      <td>71.850000</td>\n",
       "      <td>54.900000</td>\n",
       "      <td>63.200000</td>\n",
       "      <td>71.850000</td>\n",
       "      <td>54.900000</td>\n",
       "      <td>63.100000</td>\n",
       "      <td>50.300000</td>\n",
       "      <td>62.700000</td>\n",
       "      <td>0.000000</td>\n",
       "      <td>...</td>\n",
       "      <td>19.400000</td>\n",
       "      <td>11.600000</td>\n",
       "      <td>90.900000</td>\n",
       "      <td>1012.800000</td>\n",
       "      <td>21.300000</td>\n",
       "      <td>7.900000</td>\n",
       "      <td>101.350000</td>\n",
       "      <td>8.800000</td>\n",
       "      <td>5.000000</td>\n",
       "      <td>0.250000</td>\n",
       "    </tr>\n",
       "    <tr>\n",
       "      <th>50%</th>\n",
       "      <td>2016-10-31 00:00:00</td>\n",
       "      <td>82.100000</td>\n",
       "      <td>67.200000</td>\n",
       "      <td>73.800000</td>\n",
       "      <td>83.100000</td>\n",
       "      <td>67.200000</td>\n",
       "      <td>73.900000</td>\n",
       "      <td>64.700000</td>\n",
       "      <td>71.300000</td>\n",
       "      <td>0.000000</td>\n",
       "      <td>...</td>\n",
       "      <td>23.000000</td>\n",
       "      <td>14.500000</td>\n",
       "      <td>152.200000</td>\n",
       "      <td>1015.400000</td>\n",
       "      <td>39.900000</td>\n",
       "      <td>9.300000</td>\n",
       "      <td>168.100000</td>\n",
       "      <td>14.500000</td>\n",
       "      <td>7.000000</td>\n",
       "      <td>0.500000</td>\n",
       "    </tr>\n",
       "    <tr>\n",
       "      <th>75%</th>\n",
       "      <td>2020-03-31 12:00:00</td>\n",
       "      <td>91.000000</td>\n",
       "      <td>75.500000</td>\n",
       "      <td>82.150000</td>\n",
       "      <td>96.600000</td>\n",
       "      <td>75.500000</td>\n",
       "      <td>85.000000</td>\n",
       "      <td>71.900000</td>\n",
       "      <td>79.600000</td>\n",
       "      <td>0.017500</td>\n",
       "      <td>...</td>\n",
       "      <td>28.200000</td>\n",
       "      <td>17.700000</td>\n",
       "      <td>202.300000</td>\n",
       "      <td>1018.900000</td>\n",
       "      <td>70.900000</td>\n",
       "      <td>9.800000</td>\n",
       "      <td>235.600000</td>\n",
       "      <td>20.300000</td>\n",
       "      <td>9.000000</td>\n",
       "      <td>0.750000</td>\n",
       "    </tr>\n",
       "    <tr>\n",
       "      <th>max</th>\n",
       "      <td>2023-08-31 00:00:00</td>\n",
       "      <td>110.500000</td>\n",
       "      <td>84.300000</td>\n",
       "      <td>93.800000</td>\n",
       "      <td>116.100000</td>\n",
       "      <td>93.000000</td>\n",
       "      <td>99.900000</td>\n",
       "      <td>77.700000</td>\n",
       "      <td>99.600000</td>\n",
       "      <td>15.537000</td>\n",
       "      <td>...</td>\n",
       "      <td>83.900000</td>\n",
       "      <td>40.900000</td>\n",
       "      <td>359.900000</td>\n",
       "      <td>1038.600000</td>\n",
       "      <td>100.000000</td>\n",
       "      <td>9.900000</td>\n",
       "      <td>691.300000</td>\n",
       "      <td>59.800000</td>\n",
       "      <td>10.000000</td>\n",
       "      <td>0.980000</td>\n",
       "    </tr>\n",
       "    <tr>\n",
       "      <th>std</th>\n",
       "      <td>NaN</td>\n",
       "      <td>13.431522</td>\n",
       "      <td>13.208290</td>\n",
       "      <td>12.696262</td>\n",
       "      <td>16.211105</td>\n",
       "      <td>15.649461</td>\n",
       "      <td>15.444204</td>\n",
       "      <td>14.754456</td>\n",
       "      <td>14.096193</td>\n",
       "      <td>0.402909</td>\n",
       "      <td>...</td>\n",
       "      <td>9.472626</td>\n",
       "      <td>4.800610</td>\n",
       "      <td>95.434243</td>\n",
       "      <td>5.220453</td>\n",
       "      <td>29.737025</td>\n",
       "      <td>1.541553</td>\n",
       "      <td>87.377593</td>\n",
       "      <td>7.555122</td>\n",
       "      <td>2.559840</td>\n",
       "      <td>0.288668</td>\n",
       "    </tr>\n",
       "  </tbody>\n",
       "</table>\n",
       "<p>8 rows × 24 columns</p>\n",
       "</div>"
      ],
      "text/plain": [
       "                      Date      tempmax      tempmin         temp  \\\n",
       "count                 4991  4991.000000  4991.000000  4991.000000   \n",
       "mean   2016-10-31 00:00:00    80.154859    64.256021    71.393829   \n",
       "min    2010-01-01 00:00:00    25.300000    12.500000    18.500000   \n",
       "25%    2013-06-01 12:00:00    71.850000    54.900000    63.200000   \n",
       "50%    2016-10-31 00:00:00    82.100000    67.200000    73.800000   \n",
       "75%    2020-03-31 12:00:00    91.000000    75.500000    82.150000   \n",
       "max    2023-08-31 00:00:00   110.500000    84.300000    93.800000   \n",
       "std                    NaN    13.431522    13.208290    12.696262   \n",
       "\n",
       "       feelslikemax  feelslikemin    feelslike          dew     humidity  \\\n",
       "count   4991.000000   4991.000000  4991.000000  4991.000000  4991.000000   \n",
       "mean      82.549449     63.634662    72.608856    59.667381    69.757283   \n",
       "min       11.800000     -4.300000     3.700000     0.000000    18.100000   \n",
       "25%       71.850000     54.900000    63.100000    50.300000    62.700000   \n",
       "50%       83.100000     67.200000    73.900000    64.700000    71.300000   \n",
       "75%       96.600000     75.500000    85.000000    71.900000    79.600000   \n",
       "max      116.100000     93.000000    99.900000    77.700000    99.600000   \n",
       "std       16.211105     15.649461    15.444204    14.754456    14.096193   \n",
       "\n",
       "            precip  ...     windgust    windspeed      winddir  \\\n",
       "count  4991.000000  ...  4991.000000  4991.000000  4991.000000   \n",
       "mean      0.092281  ...    22.912022    14.980425   159.090603   \n",
       "min       0.000000  ...     0.000000     0.900000     0.000000   \n",
       "25%       0.000000  ...    19.400000    11.600000    90.900000   \n",
       "50%       0.000000  ...    23.000000    14.500000   152.200000   \n",
       "75%       0.017500  ...    28.200000    17.700000   202.300000   \n",
       "max      15.537000  ...    83.900000    40.900000   359.900000   \n",
       "std       0.402909  ...     9.472626     4.800610    95.434243   \n",
       "\n",
       "       sealevelpressure   cloudcover   visibility  solarradiation  \\\n",
       "count       4991.000000  4991.000000  4991.000000     4626.000000   \n",
       "mean        1016.117952    45.650571     8.636085      170.791548   \n",
       "min          999.400000     0.000000     0.800000        8.500000   \n",
       "25%         1012.800000    21.300000     7.900000      101.350000   \n",
       "50%         1015.400000    39.900000     9.300000      168.100000   \n",
       "75%         1018.900000    70.900000     9.800000      235.600000   \n",
       "max         1038.600000   100.000000     9.900000      691.300000   \n",
       "std            5.220453    29.737025     1.541553       87.377593   \n",
       "\n",
       "       solarenergy      uvindex    moonphase  \n",
       "count  4626.000000  4626.000000  4991.000000  \n",
       "mean     14.733744     6.425205     0.483041  \n",
       "min       0.500000     0.000000     0.000000  \n",
       "25%       8.800000     5.000000     0.250000  \n",
       "50%      14.500000     7.000000     0.500000  \n",
       "75%      20.300000     9.000000     0.750000  \n",
       "max      59.800000    10.000000     0.980000  \n",
       "std       7.555122     2.559840     0.288668  \n",
       "\n",
       "[8 rows x 24 columns]"
      ]
     },
     "execution_count": 278,
     "metadata": {},
     "output_type": "execute_result"
    }
   ],
   "source": [
    "weather_data.describe()"
   ]
  },
  {
   "cell_type": "code",
   "execution_count": 279,
   "id": "75615f30",
   "metadata": {},
   "outputs": [],
   "source": [
    "# libraries to plot boxplot for outlier and other stuff\n",
    "import matplotlib.pyplot as plt\n",
    "%matplotlib inline\n",
    "import seaborn as sns"
   ]
  },
  {
   "cell_type": "markdown",
   "id": "d8619631",
   "metadata": {},
   "source": [
    "Moonphase: when the Moon is high in the sky, it creates 'bulges' in Earth's atmosphere that cause a slight change in precipitation levels. The higher air pressure created by each oscillation leads to an increase in temperature, and because warmer air can hold more moisture, that means less chance of rain\n",
    "\n",
    "At New Moon the percent illuminated is 0; at First and Last Quarters it is 50%; and at Full Moon it is 100%. During the crescent phases the percent illuminated is between 0 and 50% and during gibbous phases it is between 50% and 100%."
   ]
  },
  {
   "cell_type": "code",
   "execution_count": 280,
   "id": "598603dd",
   "metadata": {},
   "outputs": [
    {
     "data": {
      "text/plain": [
       "Date                0.000000\n",
       "tempmax             0.000000\n",
       "tempmin             0.000000\n",
       "temp                0.000000\n",
       "feelslikemax        0.000000\n",
       "feelslikemin        0.000000\n",
       "feelslike           0.000000\n",
       "dew                 0.000000\n",
       "humidity            0.000000\n",
       "precip              0.000000\n",
       "precipprob          0.000000\n",
       "precipcover         0.000000\n",
       "preciptype          0.000000\n",
       "snow                0.000000\n",
       "snowdepth           0.000000\n",
       "windgust            0.000000\n",
       "windspeed           0.000000\n",
       "winddir             0.000000\n",
       "sealevelpressure    0.000000\n",
       "cloudcover          0.000000\n",
       "visibility          0.000000\n",
       "solarradiation      7.313164\n",
       "solarenergy         7.313164\n",
       "uvindex             7.313164\n",
       "sunrise             0.000000\n",
       "sunset              0.000000\n",
       "moonphase           0.000000\n",
       "conditions          0.000000\n",
       "description         0.000000\n",
       "dtype: float64"
      ]
     },
     "execution_count": 280,
     "metadata": {},
     "output_type": "execute_result"
    }
   ],
   "source": [
    "weather_data.isnull().mean()*100"
   ]
  },
  {
   "cell_type": "code",
   "execution_count": 281,
   "id": "e001cc0b",
   "metadata": {},
   "outputs": [
    {
     "data": {
      "text/html": [
       "<div>\n",
       "<style scoped>\n",
       "    .dataframe tbody tr th:only-of-type {\n",
       "        vertical-align: middle;\n",
       "    }\n",
       "\n",
       "    .dataframe tbody tr th {\n",
       "        vertical-align: top;\n",
       "    }\n",
       "\n",
       "    .dataframe thead th {\n",
       "        text-align: right;\n",
       "    }\n",
       "</style>\n",
       "<table border=\"1\" class=\"dataframe\">\n",
       "  <thead>\n",
       "    <tr style=\"text-align: right;\">\n",
       "      <th></th>\n",
       "      <th>Date</th>\n",
       "      <th>tempmax</th>\n",
       "      <th>tempmin</th>\n",
       "      <th>temp</th>\n",
       "      <th>feelslikemax</th>\n",
       "      <th>feelslikemin</th>\n",
       "      <th>feelslike</th>\n",
       "      <th>dew</th>\n",
       "      <th>humidity</th>\n",
       "      <th>precip</th>\n",
       "      <th>...</th>\n",
       "      <th>cloudcover</th>\n",
       "      <th>visibility</th>\n",
       "      <th>solarradiation</th>\n",
       "      <th>solarenergy</th>\n",
       "      <th>uvindex</th>\n",
       "      <th>sunrise</th>\n",
       "      <th>sunset</th>\n",
       "      <th>moonphase</th>\n",
       "      <th>conditions</th>\n",
       "      <th>description</th>\n",
       "    </tr>\n",
       "  </thead>\n",
       "  <tbody>\n",
       "    <tr>\n",
       "      <th>1461</th>\n",
       "      <td>2014-01-01</td>\n",
       "      <td>65.0</td>\n",
       "      <td>46.6</td>\n",
       "      <td>55.9</td>\n",
       "      <td>65.0</td>\n",
       "      <td>43.8</td>\n",
       "      <td>55.5</td>\n",
       "      <td>49.5</td>\n",
       "      <td>79.4</td>\n",
       "      <td>0.000</td>\n",
       "      <td>...</td>\n",
       "      <td>93.7</td>\n",
       "      <td>8.8</td>\n",
       "      <td>NaN</td>\n",
       "      <td>NaN</td>\n",
       "      <td>NaN</td>\n",
       "      <td>2014-01-01 07:16:59</td>\n",
       "      <td>2014-01-01 17:33:25</td>\n",
       "      <td>0.00</td>\n",
       "      <td>Overcast</td>\n",
       "      <td>Cloudy skies throughout the day.</td>\n",
       "    </tr>\n",
       "    <tr>\n",
       "      <th>1462</th>\n",
       "      <td>2014-01-02</td>\n",
       "      <td>59.0</td>\n",
       "      <td>39.4</td>\n",
       "      <td>47.6</td>\n",
       "      <td>59.0</td>\n",
       "      <td>29.7</td>\n",
       "      <td>42.4</td>\n",
       "      <td>31.2</td>\n",
       "      <td>55.8</td>\n",
       "      <td>0.002</td>\n",
       "      <td>...</td>\n",
       "      <td>27.3</td>\n",
       "      <td>9.3</td>\n",
       "      <td>NaN</td>\n",
       "      <td>NaN</td>\n",
       "      <td>NaN</td>\n",
       "      <td>2014-01-02 07:17:12</td>\n",
       "      <td>2014-01-02 17:34:08</td>\n",
       "      <td>0.04</td>\n",
       "      <td>Rain, Partially cloudy</td>\n",
       "      <td>Partly cloudy throughout the day with early mo...</td>\n",
       "    </tr>\n",
       "    <tr>\n",
       "      <th>1463</th>\n",
       "      <td>2014-01-03</td>\n",
       "      <td>53.4</td>\n",
       "      <td>33.8</td>\n",
       "      <td>42.7</td>\n",
       "      <td>53.4</td>\n",
       "      <td>26.7</td>\n",
       "      <td>38.0</td>\n",
       "      <td>25.3</td>\n",
       "      <td>52.0</td>\n",
       "      <td>0.000</td>\n",
       "      <td>...</td>\n",
       "      <td>4.1</td>\n",
       "      <td>9.9</td>\n",
       "      <td>NaN</td>\n",
       "      <td>NaN</td>\n",
       "      <td>NaN</td>\n",
       "      <td>2014-01-03 07:17:24</td>\n",
       "      <td>2014-01-03 17:34:52</td>\n",
       "      <td>0.08</td>\n",
       "      <td>Clear</td>\n",
       "      <td>Clear conditions throughout the day.</td>\n",
       "    </tr>\n",
       "    <tr>\n",
       "      <th>1464</th>\n",
       "      <td>2014-01-04</td>\n",
       "      <td>65.2</td>\n",
       "      <td>41.6</td>\n",
       "      <td>56.5</td>\n",
       "      <td>65.2</td>\n",
       "      <td>35.5</td>\n",
       "      <td>54.6</td>\n",
       "      <td>48.0</td>\n",
       "      <td>73.7</td>\n",
       "      <td>0.000</td>\n",
       "      <td>...</td>\n",
       "      <td>58.2</td>\n",
       "      <td>9.9</td>\n",
       "      <td>NaN</td>\n",
       "      <td>NaN</td>\n",
       "      <td>NaN</td>\n",
       "      <td>2014-01-04 07:17:35</td>\n",
       "      <td>2014-01-04 17:35:37</td>\n",
       "      <td>0.11</td>\n",
       "      <td>Partially cloudy</td>\n",
       "      <td>Partly cloudy throughout the day.</td>\n",
       "    </tr>\n",
       "    <tr>\n",
       "      <th>1465</th>\n",
       "      <td>2014-01-05</td>\n",
       "      <td>64.5</td>\n",
       "      <td>36.5</td>\n",
       "      <td>51.9</td>\n",
       "      <td>64.5</td>\n",
       "      <td>25.4</td>\n",
       "      <td>47.2</td>\n",
       "      <td>40.0</td>\n",
       "      <td>65.6</td>\n",
       "      <td>0.036</td>\n",
       "      <td>...</td>\n",
       "      <td>61.1</td>\n",
       "      <td>9.4</td>\n",
       "      <td>NaN</td>\n",
       "      <td>NaN</td>\n",
       "      <td>NaN</td>\n",
       "      <td>2014-01-05 07:17:43</td>\n",
       "      <td>2014-01-05 17:36:22</td>\n",
       "      <td>0.15</td>\n",
       "      <td>Rain, Partially cloudy</td>\n",
       "      <td>Partly cloudy throughout the day with morning ...</td>\n",
       "    </tr>\n",
       "    <tr>\n",
       "      <th>...</th>\n",
       "      <td>...</td>\n",
       "      <td>...</td>\n",
       "      <td>...</td>\n",
       "      <td>...</td>\n",
       "      <td>...</td>\n",
       "      <td>...</td>\n",
       "      <td>...</td>\n",
       "      <td>...</td>\n",
       "      <td>...</td>\n",
       "      <td>...</td>\n",
       "      <td>...</td>\n",
       "      <td>...</td>\n",
       "      <td>...</td>\n",
       "      <td>...</td>\n",
       "      <td>...</td>\n",
       "      <td>...</td>\n",
       "      <td>...</td>\n",
       "      <td>...</td>\n",
       "      <td>...</td>\n",
       "      <td>...</td>\n",
       "      <td>...</td>\n",
       "    </tr>\n",
       "    <tr>\n",
       "      <th>1821</th>\n",
       "      <td>2014-12-27</td>\n",
       "      <td>73.6</td>\n",
       "      <td>46.6</td>\n",
       "      <td>61.5</td>\n",
       "      <td>73.6</td>\n",
       "      <td>39.2</td>\n",
       "      <td>60.0</td>\n",
       "      <td>59.4</td>\n",
       "      <td>92.7</td>\n",
       "      <td>0.021</td>\n",
       "      <td>...</td>\n",
       "      <td>99.7</td>\n",
       "      <td>8.7</td>\n",
       "      <td>NaN</td>\n",
       "      <td>NaN</td>\n",
       "      <td>NaN</td>\n",
       "      <td>2014-12-27 07:15:23</td>\n",
       "      <td>2014-12-27 17:29:56</td>\n",
       "      <td>0.20</td>\n",
       "      <td>Rain, Overcast</td>\n",
       "      <td>Cloudy skies throughout the day with rain.</td>\n",
       "    </tr>\n",
       "    <tr>\n",
       "      <th>1822</th>\n",
       "      <td>2014-12-28</td>\n",
       "      <td>45.6</td>\n",
       "      <td>40.0</td>\n",
       "      <td>41.9</td>\n",
       "      <td>41.3</td>\n",
       "      <td>32.7</td>\n",
       "      <td>36.6</td>\n",
       "      <td>39.9</td>\n",
       "      <td>92.5</td>\n",
       "      <td>0.132</td>\n",
       "      <td>...</td>\n",
       "      <td>97.1</td>\n",
       "      <td>6.3</td>\n",
       "      <td>NaN</td>\n",
       "      <td>NaN</td>\n",
       "      <td>NaN</td>\n",
       "      <td>2014-12-28 07:15:45</td>\n",
       "      <td>2014-12-28 17:30:34</td>\n",
       "      <td>0.25</td>\n",
       "      <td>Rain, Overcast</td>\n",
       "      <td>Cloudy skies throughout the day with a chance ...</td>\n",
       "    </tr>\n",
       "    <tr>\n",
       "      <th>1823</th>\n",
       "      <td>2014-12-29</td>\n",
       "      <td>49.1</td>\n",
       "      <td>39.4</td>\n",
       "      <td>44.4</td>\n",
       "      <td>48.9</td>\n",
       "      <td>35.2</td>\n",
       "      <td>42.7</td>\n",
       "      <td>42.8</td>\n",
       "      <td>93.8</td>\n",
       "      <td>0.000</td>\n",
       "      <td>...</td>\n",
       "      <td>99.9</td>\n",
       "      <td>2.7</td>\n",
       "      <td>NaN</td>\n",
       "      <td>NaN</td>\n",
       "      <td>NaN</td>\n",
       "      <td>2014-12-29 07:16:05</td>\n",
       "      <td>2014-12-29 17:31:13</td>\n",
       "      <td>0.27</td>\n",
       "      <td>Overcast</td>\n",
       "      <td>Cloudy skies throughout the day.</td>\n",
       "    </tr>\n",
       "    <tr>\n",
       "      <th>1824</th>\n",
       "      <td>2014-12-30</td>\n",
       "      <td>53.4</td>\n",
       "      <td>40.0</td>\n",
       "      <td>48.2</td>\n",
       "      <td>53.4</td>\n",
       "      <td>32.4</td>\n",
       "      <td>45.2</td>\n",
       "      <td>42.7</td>\n",
       "      <td>81.8</td>\n",
       "      <td>0.000</td>\n",
       "      <td>...</td>\n",
       "      <td>89.0</td>\n",
       "      <td>9.2</td>\n",
       "      <td>NaN</td>\n",
       "      <td>NaN</td>\n",
       "      <td>NaN</td>\n",
       "      <td>2014-12-30 07:16:23</td>\n",
       "      <td>2014-12-30 17:31:53</td>\n",
       "      <td>0.31</td>\n",
       "      <td>Partially cloudy</td>\n",
       "      <td>Partly cloudy throughout the day.</td>\n",
       "    </tr>\n",
       "    <tr>\n",
       "      <th>1825</th>\n",
       "      <td>2014-12-31</td>\n",
       "      <td>44.8</td>\n",
       "      <td>39.2</td>\n",
       "      <td>42.6</td>\n",
       "      <td>41.3</td>\n",
       "      <td>32.0</td>\n",
       "      <td>36.7</td>\n",
       "      <td>32.9</td>\n",
       "      <td>68.7</td>\n",
       "      <td>0.000</td>\n",
       "      <td>...</td>\n",
       "      <td>93.8</td>\n",
       "      <td>9.9</td>\n",
       "      <td>NaN</td>\n",
       "      <td>NaN</td>\n",
       "      <td>NaN</td>\n",
       "      <td>2014-12-31 07:16:40</td>\n",
       "      <td>2014-12-31 17:32:33</td>\n",
       "      <td>0.34</td>\n",
       "      <td>Overcast</td>\n",
       "      <td>Cloudy skies throughout the day.</td>\n",
       "    </tr>\n",
       "  </tbody>\n",
       "</table>\n",
       "<p>365 rows × 29 columns</p>\n",
       "</div>"
      ],
      "text/plain": [
       "           Date  tempmax  tempmin  temp  feelslikemax  feelslikemin  \\\n",
       "1461 2014-01-01     65.0     46.6  55.9          65.0          43.8   \n",
       "1462 2014-01-02     59.0     39.4  47.6          59.0          29.7   \n",
       "1463 2014-01-03     53.4     33.8  42.7          53.4          26.7   \n",
       "1464 2014-01-04     65.2     41.6  56.5          65.2          35.5   \n",
       "1465 2014-01-05     64.5     36.5  51.9          64.5          25.4   \n",
       "...         ...      ...      ...   ...           ...           ...   \n",
       "1821 2014-12-27     73.6     46.6  61.5          73.6          39.2   \n",
       "1822 2014-12-28     45.6     40.0  41.9          41.3          32.7   \n",
       "1823 2014-12-29     49.1     39.4  44.4          48.9          35.2   \n",
       "1824 2014-12-30     53.4     40.0  48.2          53.4          32.4   \n",
       "1825 2014-12-31     44.8     39.2  42.6          41.3          32.0   \n",
       "\n",
       "      feelslike   dew  humidity  precip  ...  cloudcover  visibility  \\\n",
       "1461       55.5  49.5      79.4   0.000  ...        93.7         8.8   \n",
       "1462       42.4  31.2      55.8   0.002  ...        27.3         9.3   \n",
       "1463       38.0  25.3      52.0   0.000  ...         4.1         9.9   \n",
       "1464       54.6  48.0      73.7   0.000  ...        58.2         9.9   \n",
       "1465       47.2  40.0      65.6   0.036  ...        61.1         9.4   \n",
       "...         ...   ...       ...     ...  ...         ...         ...   \n",
       "1821       60.0  59.4      92.7   0.021  ...        99.7         8.7   \n",
       "1822       36.6  39.9      92.5   0.132  ...        97.1         6.3   \n",
       "1823       42.7  42.8      93.8   0.000  ...        99.9         2.7   \n",
       "1824       45.2  42.7      81.8   0.000  ...        89.0         9.2   \n",
       "1825       36.7  32.9      68.7   0.000  ...        93.8         9.9   \n",
       "\n",
       "     solarradiation  solarenergy  uvindex              sunrise  \\\n",
       "1461            NaN          NaN      NaN  2014-01-01 07:16:59   \n",
       "1462            NaN          NaN      NaN  2014-01-02 07:17:12   \n",
       "1463            NaN          NaN      NaN  2014-01-03 07:17:24   \n",
       "1464            NaN          NaN      NaN  2014-01-04 07:17:35   \n",
       "1465            NaN          NaN      NaN  2014-01-05 07:17:43   \n",
       "...             ...          ...      ...                  ...   \n",
       "1821            NaN          NaN      NaN  2014-12-27 07:15:23   \n",
       "1822            NaN          NaN      NaN  2014-12-28 07:15:45   \n",
       "1823            NaN          NaN      NaN  2014-12-29 07:16:05   \n",
       "1824            NaN          NaN      NaN  2014-12-30 07:16:23   \n",
       "1825            NaN          NaN      NaN  2014-12-31 07:16:40   \n",
       "\n",
       "                   sunset  moonphase              conditions  \\\n",
       "1461  2014-01-01 17:33:25       0.00                Overcast   \n",
       "1462  2014-01-02 17:34:08       0.04  Rain, Partially cloudy   \n",
       "1463  2014-01-03 17:34:52       0.08                   Clear   \n",
       "1464  2014-01-04 17:35:37       0.11        Partially cloudy   \n",
       "1465  2014-01-05 17:36:22       0.15  Rain, Partially cloudy   \n",
       "...                   ...        ...                     ...   \n",
       "1821  2014-12-27 17:29:56       0.20          Rain, Overcast   \n",
       "1822  2014-12-28 17:30:34       0.25          Rain, Overcast   \n",
       "1823  2014-12-29 17:31:13       0.27                Overcast   \n",
       "1824  2014-12-30 17:31:53       0.31        Partially cloudy   \n",
       "1825  2014-12-31 17:32:33       0.34                Overcast   \n",
       "\n",
       "                                            description  \n",
       "1461                   Cloudy skies throughout the day.  \n",
       "1462  Partly cloudy throughout the day with early mo...  \n",
       "1463               Clear conditions throughout the day.  \n",
       "1464                  Partly cloudy throughout the day.  \n",
       "1465  Partly cloudy throughout the day with morning ...  \n",
       "...                                                 ...  \n",
       "1821         Cloudy skies throughout the day with rain.  \n",
       "1822  Cloudy skies throughout the day with a chance ...  \n",
       "1823                   Cloudy skies throughout the day.  \n",
       "1824                  Partly cloudy throughout the day.  \n",
       "1825                   Cloudy skies throughout the day.  \n",
       "\n",
       "[365 rows x 29 columns]"
      ]
     },
     "execution_count": 281,
     "metadata": {},
     "output_type": "execute_result"
    }
   ],
   "source": [
    "weather_data.loc[weather_data['uvindex'].isnull()]"
   ]
  },
  {
   "cell_type": "code",
   "execution_count": null,
   "id": "f00d62cf",
   "metadata": {},
   "outputs": [],
   "source": [
    "### its indeed that 2014 data is not available for solar radiation,solarenergy,uv index\n",
    "### we tried to fill it with median values"
   ]
  },
  {
   "cell_type": "code",
   "execution_count": 282,
   "id": "25373970",
   "metadata": {},
   "outputs": [
    {
     "data": {
      "text/plain": [
       "0"
      ]
     },
     "execution_count": 282,
     "metadata": {},
     "output_type": "execute_result"
    }
   ],
   "source": [
    "weather_data[\"solarradiation\"]=weather_data[\"solarradiation\"].fillna(weather_data[\"solarradiation\"].median())\n",
    "weather_data['solarradiation'].isnull().sum()"
   ]
  },
  {
   "cell_type": "code",
   "execution_count": 283,
   "id": "4ac1a1e9",
   "metadata": {},
   "outputs": [
    {
     "data": {
      "text/plain": [
       "0"
      ]
     },
     "execution_count": 283,
     "metadata": {},
     "output_type": "execute_result"
    }
   ],
   "source": [
    "weather_data['uvindex']=weather_data[\"uvindex\"].fillna(weather_data[\"uvindex\"].median())\n",
    "weather_data[\"uvindex\"].isnull().sum()"
   ]
  },
  {
   "cell_type": "code",
   "execution_count": 284,
   "id": "3a67c5f3",
   "metadata": {},
   "outputs": [
    {
     "data": {
      "text/plain": [
       "0"
      ]
     },
     "execution_count": 284,
     "metadata": {},
     "output_type": "execute_result"
    }
   ],
   "source": [
    "weather_data[\"solarenergy\"]=weather_data[\"solarenergy\"].fillna(weather_data[\"solarenergy\"].median())\n",
    "weather_data[\"solarenergy\"].isnull().sum()"
   ]
  },
  {
   "cell_type": "code",
   "execution_count": 285,
   "id": "aed0731e",
   "metadata": {
    "scrolled": true
   },
   "outputs": [
    {
     "data": {
      "text/plain": [
       "Date                0.0\n",
       "tempmax             0.0\n",
       "tempmin             0.0\n",
       "temp                0.0\n",
       "feelslikemax        0.0\n",
       "feelslikemin        0.0\n",
       "feelslike           0.0\n",
       "dew                 0.0\n",
       "humidity            0.0\n",
       "precip              0.0\n",
       "precipprob          0.0\n",
       "precipcover         0.0\n",
       "preciptype          0.0\n",
       "snow                0.0\n",
       "snowdepth           0.0\n",
       "windgust            0.0\n",
       "windspeed           0.0\n",
       "winddir             0.0\n",
       "sealevelpressure    0.0\n",
       "cloudcover          0.0\n",
       "visibility          0.0\n",
       "solarradiation      0.0\n",
       "solarenergy         0.0\n",
       "uvindex             0.0\n",
       "sunrise             0.0\n",
       "sunset              0.0\n",
       "moonphase           0.0\n",
       "conditions          0.0\n",
       "description         0.0\n",
       "dtype: float64"
      ]
     },
     "execution_count": 285,
     "metadata": {},
     "output_type": "execute_result"
    }
   ],
   "source": [
    "weather_data.isnull().mean()*100"
   ]
  },
  {
   "cell_type": "code",
   "execution_count": 286,
   "id": "65d18211",
   "metadata": {},
   "outputs": [
    {
     "data": {
      "text/plain": [
       "array([0. , 0.1, 0.7, 2.3, 0.2])"
      ]
     },
     "execution_count": 286,
     "metadata": {},
     "output_type": "execute_result"
    }
   ],
   "source": [
    "weather_data['snowdepth'].unique()"
   ]
  },
  {
   "cell_type": "code",
   "execution_count": 287,
   "id": "50810288",
   "metadata": {},
   "outputs": [
    {
     "data": {
      "text/plain": [
       "array([0. , 0.2])"
      ]
     },
     "execution_count": 287,
     "metadata": {},
     "output_type": "execute_result"
    }
   ],
   "source": [
    "weather_data['snow'].unique()"
   ]
  },
  {
   "cell_type": "code",
   "execution_count": 288,
   "id": "5154b694",
   "metadata": {},
   "outputs": [
    {
     "data": {
      "text/plain": [
       "588"
      ]
     },
     "execution_count": 288,
     "metadata": {},
     "output_type": "execute_result"
    }
   ],
   "source": [
    "weather_data['precip'].nunique()"
   ]
  },
  {
   "cell_type": "code",
   "execution_count": 120,
   "id": "773e1441",
   "metadata": {},
   "outputs": [
    {
     "data": {
      "text/plain": [
       "array([  0, 100], dtype=int64)"
      ]
     },
     "execution_count": 120,
     "metadata": {},
     "output_type": "execute_result"
    }
   ],
   "source": [
    "weather_data['precipprob' ].unique()"
   ]
  },
  {
   "cell_type": "code",
   "execution_count": 289,
   "id": "69c214f1",
   "metadata": {},
   "outputs": [
    {
     "data": {
      "text/plain": [
       "array([  0.  ,  20.83,   4.17,  58.33,  41.67,  29.17,  16.67,   8.33,\n",
       "        33.33,  50.  ,  75.  ,  12.5 ,  25.  ,  45.83,  70.83,  91.67,\n",
       "        83.33,  37.5 , 100.  ,  62.5 ,  54.17,  66.67,  79.17,  87.5 ,\n",
       "        95.83])"
      ]
     },
     "execution_count": 289,
     "metadata": {},
     "output_type": "execute_result"
    }
   ],
   "source": [
    "weather_data['precipcover' ].unique()"
   ]
  },
  {
   "cell_type": "code",
   "execution_count": 290,
   "id": "ab25c5a8",
   "metadata": {},
   "outputs": [
    {
     "data": {
      "text/plain": [
       "array(['none', 'rain', 'rain,snow', 'snow'], dtype=object)"
      ]
     },
     "execution_count": 290,
     "metadata": {},
     "output_type": "execute_result"
    }
   ],
   "source": [
    "weather_data['preciptype' ].unique() # we can remove this column"
   ]
  },
  {
   "cell_type": "code",
   "execution_count": 291,
   "id": "137a1311",
   "metadata": {},
   "outputs": [
    {
     "data": {
      "text/plain": [
       "array(['Partially cloudy', 'Clear', 'Rain, Partially cloudy',\n",
       "       'Rain, Overcast', 'Snow, Rain', 'Rain', 'Overcast',\n",
       "       'Snow, Rain, Partially cloudy', 'Snow, Rain, Overcast',\n",
       "       'Snow, Partially cloudy'], dtype=object)"
      ]
     },
     "execution_count": 291,
     "metadata": {},
     "output_type": "execute_result"
    }
   ],
   "source": [
    "weather_data['conditions'].unique()"
   ]
  },
  {
   "cell_type": "code",
   "execution_count": 292,
   "id": "46221c15",
   "metadata": {},
   "outputs": [
    {
     "data": {
      "text/plain": [
       "55"
      ]
     },
     "execution_count": 292,
     "metadata": {},
     "output_type": "execute_result"
    }
   ],
   "source": [
    "weather_data['description'].nunique() # we can remove this column"
   ]
  },
  {
   "cell_type": "code",
   "execution_count": 293,
   "id": "9b4f3082",
   "metadata": {},
   "outputs": [],
   "source": [
    "## remove snow,precipprob,description column\n",
    "weather_data.drop(['snow','precipprob','description'],inplace=True,axis=1)"
   ]
  },
  {
   "cell_type": "code",
   "execution_count": 294,
   "id": "01463979",
   "metadata": {},
   "outputs": [
    {
     "data": {
      "text/plain": [
       "Index(['Date', 'tempmax', 'tempmin', 'temp', 'feelslikemax', 'feelslikemin',\n",
       "       'feelslike', 'dew', 'humidity', 'precip', 'precipcover', 'preciptype',\n",
       "       'snowdepth', 'windgust', 'windspeed', 'winddir', 'sealevelpressure',\n",
       "       'cloudcover', 'visibility', 'solarradiation', 'solarenergy', 'uvindex',\n",
       "       'sunrise', 'sunset', 'moonphase', 'conditions'],\n",
       "      dtype='object')"
      ]
     },
     "execution_count": 294,
     "metadata": {},
     "output_type": "execute_result"
    }
   ],
   "source": [
    "weather_data.columns\n"
   ]
  },
  {
   "cell_type": "code",
   "execution_count": 308,
   "id": "de0e49d3",
   "metadata": {},
   "outputs": [],
   "source": [
    "## calculating daylight length\n",
    "\n",
    "sunrise = pd.to_datetime(weather_data['sunrise'])\n",
    "sunset = pd.to_datetime(weather_data['sunset'])\n",
    "weather_data['daylength'] = (sunset - sunrise)\n",
    "weather_data['daylength']=[x[6:] for x in weather_data['daylength'].astype(str)]\n",
    "weather_data['hour']=[x[:3] for x in weather_data['daylength']]\n",
    "weather_data['hour']=[int(x) for x in weather_data['hour']]\n",
    "\n",
    "weather_data['min']=[x[4:6] for x in weather_data['daylength']]\n",
    "weather_data['min']=[int(x)/60 for x in weather_data['min']]\n",
    "\n",
    "weather_data['sec']=[x[7:10] for x in weather_data['daylength']]\n",
    "weather_data['sec']=[int(x)/3600 for x in weather_data['sec']]\n"
   ]
  },
  {
   "cell_type": "code",
   "execution_count": 309,
   "id": "ebb0c972",
   "metadata": {},
   "outputs": [],
   "source": [
    "weather_data['Daylight(hr)']= weather_data[['hour','min','sec']].sum(axis=1)"
   ]
  },
  {
   "cell_type": "code",
   "execution_count": 310,
   "id": "407f088d",
   "metadata": {},
   "outputs": [
    {
     "data": {
      "text/html": [
       "<div>\n",
       "<style scoped>\n",
       "    .dataframe tbody tr th:only-of-type {\n",
       "        vertical-align: middle;\n",
       "    }\n",
       "\n",
       "    .dataframe tbody tr th {\n",
       "        vertical-align: top;\n",
       "    }\n",
       "\n",
       "    .dataframe thead th {\n",
       "        text-align: right;\n",
       "    }\n",
       "</style>\n",
       "<table border=\"1\" class=\"dataframe\">\n",
       "  <thead>\n",
       "    <tr style=\"text-align: right;\">\n",
       "      <th></th>\n",
       "      <th>Date</th>\n",
       "      <th>tempmax</th>\n",
       "      <th>tempmin</th>\n",
       "      <th>temp</th>\n",
       "      <th>feelslikemax</th>\n",
       "      <th>feelslikemin</th>\n",
       "      <th>feelslike</th>\n",
       "      <th>dew</th>\n",
       "      <th>humidity</th>\n",
       "      <th>precip</th>\n",
       "      <th>...</th>\n",
       "      <th>uvindex</th>\n",
       "      <th>sunrise</th>\n",
       "      <th>sunset</th>\n",
       "      <th>moonphase</th>\n",
       "      <th>conditions</th>\n",
       "      <th>daylength</th>\n",
       "      <th>hour</th>\n",
       "      <th>min</th>\n",
       "      <th>sec</th>\n",
       "      <th>Daylight(hr)</th>\n",
       "    </tr>\n",
       "  </thead>\n",
       "  <tbody>\n",
       "    <tr>\n",
       "      <th>0</th>\n",
       "      <td>2010-01-01</td>\n",
       "      <td>53.9</td>\n",
       "      <td>41.3</td>\n",
       "      <td>46.9</td>\n",
       "      <td>53.9</td>\n",
       "      <td>33.0</td>\n",
       "      <td>42.3</td>\n",
       "      <td>34.0</td>\n",
       "      <td>63.0</td>\n",
       "      <td>0.0</td>\n",
       "      <td>...</td>\n",
       "      <td>7.0</td>\n",
       "      <td>2010-01-01 07:16:59</td>\n",
       "      <td>2010-01-01 17:33:24</td>\n",
       "      <td>0.53</td>\n",
       "      <td>Partially cloudy</td>\n",
       "      <td>10:16:25</td>\n",
       "      <td>10</td>\n",
       "      <td>0.266667</td>\n",
       "      <td>0.006944</td>\n",
       "      <td>10.273611</td>\n",
       "    </tr>\n",
       "    <tr>\n",
       "      <th>1</th>\n",
       "      <td>2010-02-01</td>\n",
       "      <td>53.7</td>\n",
       "      <td>40.1</td>\n",
       "      <td>46.3</td>\n",
       "      <td>53.7</td>\n",
       "      <td>34.9</td>\n",
       "      <td>43.1</td>\n",
       "      <td>30.9</td>\n",
       "      <td>56.9</td>\n",
       "      <td>0.0</td>\n",
       "      <td>...</td>\n",
       "      <td>6.0</td>\n",
       "      <td>2010-01-02 07:17:13</td>\n",
       "      <td>2010-01-02 17:34:07</td>\n",
       "      <td>0.57</td>\n",
       "      <td>Clear</td>\n",
       "      <td>10:16:54</td>\n",
       "      <td>10</td>\n",
       "      <td>0.266667</td>\n",
       "      <td>0.015000</td>\n",
       "      <td>10.281667</td>\n",
       "    </tr>\n",
       "  </tbody>\n",
       "</table>\n",
       "<p>2 rows × 31 columns</p>\n",
       "</div>"
      ],
      "text/plain": [
       "        Date  tempmax  tempmin  temp  feelslikemax  feelslikemin  feelslike  \\\n",
       "0 2010-01-01     53.9     41.3  46.9          53.9          33.0       42.3   \n",
       "1 2010-02-01     53.7     40.1  46.3          53.7          34.9       43.1   \n",
       "\n",
       "    dew  humidity  precip  ...  uvindex              sunrise  \\\n",
       "0  34.0      63.0     0.0  ...      7.0  2010-01-01 07:16:59   \n",
       "1  30.9      56.9     0.0  ...      6.0  2010-01-02 07:17:13   \n",
       "\n",
       "                sunset  moonphase        conditions  daylength  hour  \\\n",
       "0  2010-01-01 17:33:24       0.53  Partially cloudy   10:16:25    10   \n",
       "1  2010-01-02 17:34:07       0.57             Clear   10:16:54    10   \n",
       "\n",
       "        min       sec  Daylight(hr)  \n",
       "0  0.266667  0.006944     10.273611  \n",
       "1  0.266667  0.015000     10.281667  \n",
       "\n",
       "[2 rows x 31 columns]"
      ]
     },
     "execution_count": 310,
     "metadata": {},
     "output_type": "execute_result"
    }
   ],
   "source": [
    "weather_data.head(2)"
   ]
  },
  {
   "cell_type": "code",
   "execution_count": 267,
   "id": "6bf8b129",
   "metadata": {},
   "outputs": [
    {
     "data": {
      "text/plain": [
       "Index(['Date', 'tempmax', 'tempmin', 'temp', 'feelslikemax', 'feelslikemin',\n",
       "       'feelslike', 'dew', 'humidity', 'precip', 'precipcover', 'preciptype',\n",
       "       'snowdepth', 'windgust', 'windspeed', 'winddir', 'sealevelpressure',\n",
       "       'cloudcover', 'visibility', 'solarradiation', 'solarenergy', 'uvindex',\n",
       "       'sunrise', 'sunset', 'moonphase', 'conditions', 'daylength', 'hour',\n",
       "       'min', 'sec', 'Daylight(sec)', 'Daylight(hr)'],\n",
       "      dtype='object')"
      ]
     },
     "execution_count": 267,
     "metadata": {},
     "output_type": "execute_result"
    }
   ],
   "source": [
    "weather_data.columns"
   ]
  },
  {
   "cell_type": "code",
   "execution_count": 311,
   "id": "b29cb75b",
   "metadata": {},
   "outputs": [],
   "source": [
    "weather_data.drop(['daylength','hour','min','sec','sunrise','sunset'],inplace=True,axis=1)"
   ]
  },
  {
   "cell_type": "code",
   "execution_count": 312,
   "id": "a5a51971",
   "metadata": {},
   "outputs": [
    {
     "data": {
      "text/html": [
       "<div>\n",
       "<style scoped>\n",
       "    .dataframe tbody tr th:only-of-type {\n",
       "        vertical-align: middle;\n",
       "    }\n",
       "\n",
       "    .dataframe tbody tr th {\n",
       "        vertical-align: top;\n",
       "    }\n",
       "\n",
       "    .dataframe thead th {\n",
       "        text-align: right;\n",
       "    }\n",
       "</style>\n",
       "<table border=\"1\" class=\"dataframe\">\n",
       "  <thead>\n",
       "    <tr style=\"text-align: right;\">\n",
       "      <th></th>\n",
       "      <th>Date</th>\n",
       "      <th>tempmax</th>\n",
       "      <th>tempmin</th>\n",
       "      <th>temp</th>\n",
       "      <th>feelslikemax</th>\n",
       "      <th>feelslikemin</th>\n",
       "      <th>feelslike</th>\n",
       "      <th>dew</th>\n",
       "      <th>humidity</th>\n",
       "      <th>precip</th>\n",
       "      <th>...</th>\n",
       "      <th>winddir</th>\n",
       "      <th>sealevelpressure</th>\n",
       "      <th>cloudcover</th>\n",
       "      <th>visibility</th>\n",
       "      <th>solarradiation</th>\n",
       "      <th>solarenergy</th>\n",
       "      <th>uvindex</th>\n",
       "      <th>moonphase</th>\n",
       "      <th>conditions</th>\n",
       "      <th>Daylight(hr)</th>\n",
       "    </tr>\n",
       "  </thead>\n",
       "  <tbody>\n",
       "    <tr>\n",
       "      <th>0</th>\n",
       "      <td>2010-01-01</td>\n",
       "      <td>53.9</td>\n",
       "      <td>41.3</td>\n",
       "      <td>46.9</td>\n",
       "      <td>53.9</td>\n",
       "      <td>33.0</td>\n",
       "      <td>42.3</td>\n",
       "      <td>34.0</td>\n",
       "      <td>63.0</td>\n",
       "      <td>0.0</td>\n",
       "      <td>...</td>\n",
       "      <td>359.3</td>\n",
       "      <td>1028.0</td>\n",
       "      <td>47.7</td>\n",
       "      <td>9.8</td>\n",
       "      <td>174.8</td>\n",
       "      <td>15.0</td>\n",
       "      <td>7.0</td>\n",
       "      <td>0.53</td>\n",
       "      <td>Partially cloudy</td>\n",
       "      <td>10.273611</td>\n",
       "    </tr>\n",
       "    <tr>\n",
       "      <th>1</th>\n",
       "      <td>2010-02-01</td>\n",
       "      <td>53.7</td>\n",
       "      <td>40.1</td>\n",
       "      <td>46.3</td>\n",
       "      <td>53.7</td>\n",
       "      <td>34.9</td>\n",
       "      <td>43.1</td>\n",
       "      <td>30.9</td>\n",
       "      <td>56.9</td>\n",
       "      <td>0.0</td>\n",
       "      <td>...</td>\n",
       "      <td>93.7</td>\n",
       "      <td>1025.9</td>\n",
       "      <td>9.1</td>\n",
       "      <td>9.6</td>\n",
       "      <td>156.6</td>\n",
       "      <td>13.4</td>\n",
       "      <td>6.0</td>\n",
       "      <td>0.57</td>\n",
       "      <td>Clear</td>\n",
       "      <td>10.281667</td>\n",
       "    </tr>\n",
       "  </tbody>\n",
       "</table>\n",
       "<p>2 rows × 25 columns</p>\n",
       "</div>"
      ],
      "text/plain": [
       "        Date  tempmax  tempmin  temp  feelslikemax  feelslikemin  feelslike  \\\n",
       "0 2010-01-01     53.9     41.3  46.9          53.9          33.0       42.3   \n",
       "1 2010-02-01     53.7     40.1  46.3          53.7          34.9       43.1   \n",
       "\n",
       "    dew  humidity  precip  ...  winddir sealevelpressure  cloudcover  \\\n",
       "0  34.0      63.0     0.0  ...    359.3           1028.0        47.7   \n",
       "1  30.9      56.9     0.0  ...     93.7           1025.9         9.1   \n",
       "\n",
       "   visibility  solarradiation  solarenergy  uvindex  moonphase  \\\n",
       "0         9.8           174.8         15.0      7.0       0.53   \n",
       "1         9.6           156.6         13.4      6.0       0.57   \n",
       "\n",
       "         conditions  Daylight(hr)  \n",
       "0  Partially cloudy     10.273611  \n",
       "1             Clear     10.281667  \n",
       "\n",
       "[2 rows x 25 columns]"
      ]
     },
     "execution_count": 312,
     "metadata": {},
     "output_type": "execute_result"
    }
   ],
   "source": [
    "weather_data.head(2)"
   ]
  },
  {
   "cell_type": "code",
   "execution_count": 218,
   "id": "fa44db37",
   "metadata": {},
   "outputs": [],
   "source": [
    "df=weather_data[['temp','humidity', 'windspeed', 'sealevelpressure', 'solarradiation', 'solarenergy', 'uvindex','moonphase']]"
   ]
  },
  {
   "cell_type": "code",
   "execution_count": 224,
   "id": "69ffd6ec",
   "metadata": {},
   "outputs": [
    {
     "data": {
      "image/png": "[encoded data removed]",
      "text/plain": [
       "<Figure size 500x300 with 1 Axes>"
      ]
     },
     "metadata": {},
     "output_type": "display_data"
    }
   ],
   "source": [
    "plt.close()\n",
    "plt.figure(figsize=(5,3))\n",
    "sns.histplot(df.temp)\n",
    "plt.show()"
   ]
  },
  {
   "cell_type": "code",
   "execution_count": 225,
   "id": "3ed0e53e",
   "metadata": {},
   "outputs": [
    {
     "data": {
      "image/png": "[encoded data removed]",
      "text/plain": [
       "<Figure size 500x300 with 1 Axes>"
      ]
     },
     "metadata": {},
     "output_type": "display_data"
    }
   ],
   "source": [
    "plt.close()\n",
    "plt.figure(figsize=(5,3))\n",
    "sns.histplot(df.humidity)\n",
    "plt.show()"
   ]
  },
  {
   "cell_type": "code",
   "execution_count": 230,
   "id": "c5a4e268",
   "metadata": {},
   "outputs": [
    {
     "data": {
      "text/plain": [
       "<Axes: xlabel='cloudcover', ylabel='solarradiation'>"
      ]
     },
     "execution_count": 230,
     "metadata": {},
     "output_type": "execute_result"
    },
    {
     "data": {
      "image/png": "[encoded data removed]",
      "text/plain": [
       "<Figure size 800x400 with 1 Axes>"
      ]
     },
     "metadata": {},
     "output_type": "display_data"
    }
   ],
   "source": [
    "# draw regplot\n",
    "#'''Date', 'tempmax', 'tempmin', 'temp', 'feelslikemax', 'feelslikemin',\n",
    " #      'feelslike', 'dew', 'humidity', 'precip', 'precipcover', 'preciptype',\n",
    "  #     'snowdepth', 'windgust', 'windspeed', 'winddir', 'sealevelpressure',\n",
    "   #    'cloudcover', 'visibility', 'solarradiation', 'solarenergy', 'uvindex',\n",
    "    #   'sunrise', 'sunset', 'moonphase', 'conditions'''\n",
    "plt.close()\n",
    "plt.figure(figsize=(8,4))\n",
    "sns.lineplot(x = \"cloudcover\",\n",
    "            y = \"solarradiation\",\n",
    "            data = weather_data)"
   ]
  },
  {
   "cell_type": "code",
   "execution_count": 231,
   "id": "d976e18b",
   "metadata": {},
   "outputs": [
    {
     "data": {
      "text/plain": [
       "<Axes: xlabel='cloudcover', ylabel='solarenergy'>"
      ]
     },
     "execution_count": 231,
     "metadata": {},
     "output_type": "execute_result"
    },
    {
     "data": {
      "image/png": "[encoded data removed]",
      "text/plain": [
       "<Figure size 800x400 with 1 Axes>"
      ]
     },
     "metadata": {},
     "output_type": "display_data"
    }
   ],
   "source": [
    "# draw regplot\n",
    "#'''Date', 'tempmax', 'tempmin', 'temp', 'feelslikemax', 'feelslikemin',\n",
    " #      'feelslike', 'dew', 'humidity', 'precip', 'precipcover', 'preciptype',\n",
    "  #     'snowdepth', 'windgust', 'windspeed', 'winddir', 'sealevelpressure',\n",
    "   #    'cloudcover', 'visibility', 'solarradiation', 'solarenergy', 'uvindex',\n",
    "    #   'sunrise', 'sunset', 'moonphase', 'conditions'''\n",
    "plt.close()\n",
    "plt.figure(figsize=(8,4))\n",
    "sns.lineplot(x = \"cloudcover\",\n",
    "            y = \"solarenergy\",\n",
    "            data = weather_data)"
   ]
  },
  {
   "cell_type": "code",
   "execution_count": 231,
   "id": "20f2dcce",
   "metadata": {},
   "outputs": [
    {
     "data": {
      "text/plain": [
       "<Axes: xlabel='cloudcover', ylabel='solarenergy'>"
      ]
     },
     "execution_count": 231,
     "metadata": {},
     "output_type": "execute_result"
    },
    {
     "data": {
      "image/png": "[encoded data removed]",
      "text/plain": [
       "<Figure size 800x400 with 1 Axes>"
      ]
     },
     "metadata": {},
     "output_type": "display_data"
    }
   ],
   "source": [
    "# draw regplot\n",
    "#'''Date', 'tempmax', 'tempmin', 'temp', 'feelslikemax', 'feelslikemin',\n",
    " #      'feelslike', 'dew', 'humidity', 'precip', 'precipcover', 'preciptype',\n",
    "  #     'snowdepth', 'windgust', 'windspeed', 'winddir', 'sealevelpressure',\n",
    "   #    'cloudcover', 'visibility', 'solarradiation', 'solarenergy', 'uvindex',\n",
    "    #   'sunrise', 'sunset', 'moonphase', 'conditions'''\n",
    "plt.close()\n",
    "plt.figure(figsize=(8,4))\n",
    "sns.lineplot(x = \"cloudcover\",\n",
    "            y = \"solarenergy\",\n",
    "            data = weather_data)"
   ]
  },
  {
   "cell_type": "code",
   "execution_count": 232,
   "id": "137e785f",
   "metadata": {},
   "outputs": [
    {
     "data": {
      "text/plain": [
       "Index(['Date', 'tempmax', 'tempmin', 'temp', 'feelslikemax', 'feelslikemin',\n",
       "       'feelslike', 'dew', 'humidity', 'precip', 'precipcover', 'preciptype',\n",
       "       'snowdepth', 'windgust', 'windspeed', 'winddir', 'sealevelpressure',\n",
       "       'cloudcover', 'visibility', 'solarradiation', 'solarenergy', 'uvindex',\n",
       "       'sunrise', 'sunset', 'moonphase', 'conditions', 'daylength'],\n",
       "      dtype='object')"
      ]
     },
     "execution_count": 232,
     "metadata": {},
     "output_type": "execute_result"
    }
   ],
   "source": [
    "weather_data.columns"
   ]
  },
  {
   "cell_type": "code",
   "execution_count": 314,
   "id": "0934c8f8",
   "metadata": {},
   "outputs": [
    {
     "data": {
      "text/plain": [
       "Index(['Date', 'Occurrence Hour', 'Offense Count', 'Beat', 'Premise',\n",
       "       'Street Name', 'Street Type', 'NIBRS DescriptionOrg', 'Offense Code',\n",
       "       'Crime Against', 'Offense Category'],\n",
       "      dtype='object')"
      ]
     },
     "execution_count": 314,
     "metadata": {},
     "output_type": "execute_result"
    }
   ],
   "source": [
    "Cdata.columns"
   ]
  },
  {
   "cell_type": "code",
   "execution_count": 234,
   "id": "f7fba8aa",
   "metadata": {},
   "outputs": [
    {
     "data": {
      "text/plain": [
       "(4991, 27)"
      ]
     },
     "execution_count": 234,
     "metadata": {},
     "output_type": "execute_result"
    }
   ],
   "source": [
    "weather_data.shape"
   ]
  },
  {
   "cell_type": "code",
   "execution_count": 315,
   "id": "8181582b",
   "metadata": {},
   "outputs": [],
   "source": [
    "# Merging Data with crime\n",
    "data=pd.merge(Cdata, weather_data, how=\"inner\", on=\"Date\")"
   ]
  },
  {
   "cell_type": "code",
   "execution_count": 319,
   "id": "a7096f0a",
   "metadata": {},
   "outputs": [],
   "source": [
    "data.rename(columns={'NIBRS DescriptionOrg':'NIBRS Description'},inplace=True)"
   ]
  },
  {
   "cell_type": "code",
   "execution_count": 320,
   "id": "3f8c7e80",
   "metadata": {},
   "outputs": [
    {
     "data": {
      "text/html": [
       "<div>\n",
       "<style scoped>\n",
       "    .dataframe tbody tr th:only-of-type {\n",
       "        vertical-align: middle;\n",
       "    }\n",
       "\n",
       "    .dataframe tbody tr th {\n",
       "        vertical-align: top;\n",
       "    }\n",
       "\n",
       "    .dataframe thead th {\n",
       "        text-align: right;\n",
       "    }\n",
       "</style>\n",
       "<table border=\"1\" class=\"dataframe\">\n",
       "  <thead>\n",
       "    <tr style=\"text-align: right;\">\n",
       "      <th></th>\n",
       "      <th>Date</th>\n",
       "      <th>Occurrence Hour</th>\n",
       "      <th>Offense Count</th>\n",
       "      <th>Beat</th>\n",
       "      <th>Premise</th>\n",
       "      <th>Street Name</th>\n",
       "      <th>Street Type</th>\n",
       "      <th>NIBRS Description</th>\n",
       "      <th>Offense Code</th>\n",
       "      <th>Crime Against</th>\n",
       "      <th>...</th>\n",
       "      <th>winddir</th>\n",
       "      <th>sealevelpressure</th>\n",
       "      <th>cloudcover</th>\n",
       "      <th>visibility</th>\n",
       "      <th>solarradiation</th>\n",
       "      <th>solarenergy</th>\n",
       "      <th>uvindex</th>\n",
       "      <th>moonphase</th>\n",
       "      <th>conditions</th>\n",
       "      <th>Daylight(hr)</th>\n",
       "    </tr>\n",
       "  </thead>\n",
       "  <tbody>\n",
       "    <tr>\n",
       "      <th>0</th>\n",
       "      <td>2010-01-01</td>\n",
       "      <td>8.0</td>\n",
       "      <td>1.0</td>\n",
       "      <td>3B10</td>\n",
       "      <td>20R</td>\n",
       "      <td>POINCIANA</td>\n",
       "      <td>DR</td>\n",
       "      <td>Theft</td>\n",
       "      <td>23H</td>\n",
       "      <td>Property</td>\n",
       "      <td>...</td>\n",
       "      <td>359.3</td>\n",
       "      <td>1028.0</td>\n",
       "      <td>47.7</td>\n",
       "      <td>9.8</td>\n",
       "      <td>174.8</td>\n",
       "      <td>15.0</td>\n",
       "      <td>7.0</td>\n",
       "      <td>0.53</td>\n",
       "      <td>Partially cloudy</td>\n",
       "      <td>10.273611</td>\n",
       "    </tr>\n",
       "    <tr>\n",
       "      <th>1</th>\n",
       "      <td>2010-01-01</td>\n",
       "      <td>18.0</td>\n",
       "      <td>1.0</td>\n",
       "      <td>5F20</td>\n",
       "      <td>20D</td>\n",
       "      <td>HAMMERLY</td>\n",
       "      <td>Unknown</td>\n",
       "      <td>Theft</td>\n",
       "      <td>23H</td>\n",
       "      <td>Property</td>\n",
       "      <td>...</td>\n",
       "      <td>359.3</td>\n",
       "      <td>1028.0</td>\n",
       "      <td>47.7</td>\n",
       "      <td>9.8</td>\n",
       "      <td>174.8</td>\n",
       "      <td>15.0</td>\n",
       "      <td>7.0</td>\n",
       "      <td>0.53</td>\n",
       "      <td>Partially cloudy</td>\n",
       "      <td>10.273611</td>\n",
       "    </tr>\n",
       "    <tr>\n",
       "      <th>2</th>\n",
       "      <td>2010-01-01</td>\n",
       "      <td>0.0</td>\n",
       "      <td>1.0</td>\n",
       "      <td>1A10</td>\n",
       "      <td>05O</td>\n",
       "      <td>MAIN</td>\n",
       "      <td>ST</td>\n",
       "      <td>Burglary</td>\n",
       "      <td>220</td>\n",
       "      <td>Property</td>\n",
       "      <td>...</td>\n",
       "      <td>359.3</td>\n",
       "      <td>1028.0</td>\n",
       "      <td>47.7</td>\n",
       "      <td>9.8</td>\n",
       "      <td>174.8</td>\n",
       "      <td>15.0</td>\n",
       "      <td>7.0</td>\n",
       "      <td>0.53</td>\n",
       "      <td>Partially cloudy</td>\n",
       "      <td>10.273611</td>\n",
       "    </tr>\n",
       "    <tr>\n",
       "      <th>3</th>\n",
       "      <td>2010-01-01</td>\n",
       "      <td>0.0</td>\n",
       "      <td>1.0</td>\n",
       "      <td>7C10</td>\n",
       "      <td>20R</td>\n",
       "      <td>LOCKWOOD</td>\n",
       "      <td>DR</td>\n",
       "      <td>Theft</td>\n",
       "      <td>23H</td>\n",
       "      <td>Property</td>\n",
       "      <td>...</td>\n",
       "      <td>359.3</td>\n",
       "      <td>1028.0</td>\n",
       "      <td>47.7</td>\n",
       "      <td>9.8</td>\n",
       "      <td>174.8</td>\n",
       "      <td>15.0</td>\n",
       "      <td>7.0</td>\n",
       "      <td>0.53</td>\n",
       "      <td>Partially cloudy</td>\n",
       "      <td>10.273611</td>\n",
       "    </tr>\n",
       "    <tr>\n",
       "      <th>4</th>\n",
       "      <td>2010-01-01</td>\n",
       "      <td>10.0</td>\n",
       "      <td>1.0</td>\n",
       "      <td>18F20</td>\n",
       "      <td>18A</td>\n",
       "      <td>MCCUE</td>\n",
       "      <td>RD</td>\n",
       "      <td>Theft</td>\n",
       "      <td>23H</td>\n",
       "      <td>Property</td>\n",
       "      <td>...</td>\n",
       "      <td>359.3</td>\n",
       "      <td>1028.0</td>\n",
       "      <td>47.7</td>\n",
       "      <td>9.8</td>\n",
       "      <td>174.8</td>\n",
       "      <td>15.0</td>\n",
       "      <td>7.0</td>\n",
       "      <td>0.53</td>\n",
       "      <td>Partially cloudy</td>\n",
       "      <td>10.273611</td>\n",
       "    </tr>\n",
       "  </tbody>\n",
       "</table>\n",
       "<p>5 rows × 35 columns</p>\n",
       "</div>"
      ],
      "text/plain": [
       "        Date Occurrence Hour  Offense Count   Beat Premise Street Name  \\\n",
       "0 2010-01-01             8.0            1.0   3B10     20R   POINCIANA   \n",
       "1 2010-01-01            18.0            1.0   5F20     20D    HAMMERLY   \n",
       "2 2010-01-01             0.0            1.0   1A10     05O        MAIN   \n",
       "3 2010-01-01             0.0            1.0   7C10     20R    LOCKWOOD   \n",
       "4 2010-01-01            10.0            1.0  18F20     18A       MCCUE   \n",
       "\n",
       "  Street Type NIBRS Description Offense Code Crime Against  ... winddir  \\\n",
       "0          DR             Theft          23H      Property  ...   359.3   \n",
       "1     Unknown             Theft          23H      Property  ...   359.3   \n",
       "2          ST          Burglary          220      Property  ...   359.3   \n",
       "3          DR             Theft          23H      Property  ...   359.3   \n",
       "4          RD             Theft          23H      Property  ...   359.3   \n",
       "\n",
       "   sealevelpressure  cloudcover  visibility  solarradiation  solarenergy  \\\n",
       "0            1028.0        47.7         9.8           174.8         15.0   \n",
       "1            1028.0        47.7         9.8           174.8         15.0   \n",
       "2            1028.0        47.7         9.8           174.8         15.0   \n",
       "3            1028.0        47.7         9.8           174.8         15.0   \n",
       "4            1028.0        47.7         9.8           174.8         15.0   \n",
       "\n",
       "   uvindex  moonphase        conditions  Daylight(hr)  \n",
       "0      7.0       0.53  Partially cloudy     10.273611  \n",
       "1      7.0       0.53  Partially cloudy     10.273611  \n",
       "2      7.0       0.53  Partially cloudy     10.273611  \n",
       "3      7.0       0.53  Partially cloudy     10.273611  \n",
       "4      7.0       0.53  Partially cloudy     10.273611  \n",
       "\n",
       "[5 rows x 35 columns]"
      ]
     },
     "execution_count": 320,
     "metadata": {},
     "output_type": "execute_result"
    }
   ],
   "source": [
    "data.head()"
   ]
  },
  {
   "cell_type": "code",
   "execution_count": 321,
   "id": "f5a8413e",
   "metadata": {},
   "outputs": [
    {
     "data": {
      "text/plain": [
       "Date                 0.0\n",
       "Occurrence Hour      0.0\n",
       "Offense Count        0.0\n",
       "Beat                 0.0\n",
       "Premise              0.0\n",
       "Street Name          0.0\n",
       "Street Type          0.0\n",
       "NIBRS Description    0.0\n",
       "Offense Code         0.0\n",
       "Crime Against        0.0\n",
       "Offense Category     0.0\n",
       "tempmax              0.0\n",
       "tempmin              0.0\n",
       "temp                 0.0\n",
       "feelslikemax         0.0\n",
       "feelslikemin         0.0\n",
       "feelslike            0.0\n",
       "dew                  0.0\n",
       "humidity             0.0\n",
       "precip               0.0\n",
       "precipcover          0.0\n",
       "preciptype           0.0\n",
       "snowdepth            0.0\n",
       "windgust             0.0\n",
       "windspeed            0.0\n",
       "winddir              0.0\n",
       "sealevelpressure     0.0\n",
       "cloudcover           0.0\n",
       "visibility           0.0\n",
       "solarradiation       0.0\n",
       "solarenergy          0.0\n",
       "uvindex              0.0\n",
       "moonphase            0.0\n",
       "conditions           0.0\n",
       "Daylight(hr)         0.0\n",
       "dtype: float64"
      ]
     },
     "execution_count": 321,
     "metadata": {},
     "output_type": "execute_result"
    }
   ],
   "source": [
    "data.isnull().mean()*100"
   ]
  },
  {
   "cell_type": "code",
   "execution_count": 322,
   "id": "38f15cf8",
   "metadata": {},
   "outputs": [],
   "source": [
    "# data is nice and clean lets save it \n",
    "\n",
    "data.to_csv(\"CWData.csv\",index=False)"
   ]
  },
  {
   "cell_type": "code",
   "execution_count": null,
   "id": "a5b3e58d",
   "metadata": {},
   "outputs": [
    {
     "data": {
      "text/plain": [
       "<Axes: xlabel='temp', ylabel='Offense Count'>"
      ]
     },
     "execution_count": 325,
     "metadata": {},
     "output_type": "execute_result"
    },
    {
     "name": "stdout",
     "output_type": "stream",
     "text": [
      "Error in callback <function _draw_all_if_interactive at 0x00000235590E2480> (for post_execute):\n"
     ]
    },
    {
     "ename": "KeyboardInterrupt",
     "evalue": "",
     "output_type": "error",
     "traceback": [
      "\u001b[1;31m---------------------------------------------------------------------------\u001b[0m",
      "\u001b[1;31mKeyboardInterrupt\u001b[0m                         Traceback (most recent call last)",
      "File \u001b[1;32m~\\anaconda3\\envs\\Penv\\Lib\\site-packages\\matplotlib\\pyplot.py:197\u001b[0m, in \u001b[0;36m_draw_all_if_interactive\u001b[1;34m()\u001b[0m\n\u001b[0;32m    195\u001b[0m \u001b[38;5;28;01mdef\u001b[39;00m \u001b[38;5;21m_draw_all_if_interactive\u001b[39m() \u001b[38;5;241m-\u001b[39m\u001b[38;5;241m>\u001b[39m \u001b[38;5;28;01mNone\u001b[39;00m:\n\u001b[0;32m    196\u001b[0m     \u001b[38;5;28;01mif\u001b[39;00m matplotlib\u001b[38;5;241m.\u001b[39mis_interactive():\n\u001b[1;32m--> 197\u001b[0m         draw_all()\n",
      "File \u001b[1;32m~\\anaconda3\\envs\\Penv\\Lib\\site-packages\\matplotlib\\_pylab_helpers.py:132\u001b[0m, in \u001b[0;36mGcf.draw_all\u001b[1;34m(cls, force)\u001b[0m\n\u001b[0;32m    130\u001b[0m \u001b[38;5;28;01mfor\u001b[39;00m manager \u001b[38;5;129;01min\u001b[39;00m \u001b[38;5;28mcls\u001b[39m\u001b[38;5;241m.\u001b[39mget_all_fig_managers():\n\u001b[0;32m    131\u001b[0m     \u001b[38;5;28;01mif\u001b[39;00m force \u001b[38;5;129;01mor\u001b[39;00m manager\u001b[38;5;241m.\u001b[39mcanvas\u001b[38;5;241m.\u001b[39mfigure\u001b[38;5;241m.\u001b[39mstale:\n\u001b[1;32m--> 132\u001b[0m         manager\u001b[38;5;241m.\u001b[39mcanvas\u001b[38;5;241m.\u001b[39mdraw_idle()\n",
      "File \u001b[1;32m~\\anaconda3\\envs\\Penv\\Lib\\site-packages\\matplotlib\\backend_bases.py:1893\u001b[0m, in \u001b[0;36mFigureCanvasBase.draw_idle\u001b[1;34m(self, *args, **kwargs)\u001b[0m\n\u001b[0;32m   1891\u001b[0m \u001b[38;5;28;01mif\u001b[39;00m \u001b[38;5;129;01mnot\u001b[39;00m \u001b[38;5;28mself\u001b[39m\u001b[38;5;241m.\u001b[39m_is_idle_drawing:\n\u001b[0;32m   1892\u001b[0m     \u001b[38;5;28;01mwith\u001b[39;00m \u001b[38;5;28mself\u001b[39m\u001b[38;5;241m.\u001b[39m_idle_draw_cntx():\n\u001b[1;32m-> 1893\u001b[0m         \u001b[38;5;28mself\u001b[39m\u001b[38;5;241m.\u001b[39mdraw(\u001b[38;5;241m*\u001b[39margs, \u001b[38;5;241m*\u001b[39m\u001b[38;5;241m*\u001b[39mkwargs)\n",
      "File \u001b[1;32m~\\anaconda3\\envs\\Penv\\Lib\\site-packages\\matplotlib\\backends\\backend_agg.py:388\u001b[0m, in \u001b[0;36mFigureCanvasAgg.draw\u001b[1;34m(self)\u001b[0m\n\u001b[0;32m    385\u001b[0m \u001b[38;5;66;03m# Acquire a lock on the shared font cache.\u001b[39;00m\n\u001b[0;32m    386\u001b[0m \u001b[38;5;28;01mwith\u001b[39;00m (\u001b[38;5;28mself\u001b[39m\u001b[38;5;241m.\u001b[39mtoolbar\u001b[38;5;241m.\u001b[39m_wait_cursor_for_draw_cm() \u001b[38;5;28;01mif\u001b[39;00m \u001b[38;5;28mself\u001b[39m\u001b[38;5;241m.\u001b[39mtoolbar\n\u001b[0;32m    387\u001b[0m       \u001b[38;5;28;01melse\u001b[39;00m nullcontext()):\n\u001b[1;32m--> 388\u001b[0m     \u001b[38;5;28mself\u001b[39m\u001b[38;5;241m.\u001b[39mfigure\u001b[38;5;241m.\u001b[39mdraw(\u001b[38;5;28mself\u001b[39m\u001b[38;5;241m.\u001b[39mrenderer)\n\u001b[0;32m    389\u001b[0m     \u001b[38;5;66;03m# A GUI class may be need to update a window using this draw, so\u001b[39;00m\n\u001b[0;32m    390\u001b[0m     \u001b[38;5;66;03m# don't forget to call the superclass.\u001b[39;00m\n\u001b[0;32m    391\u001b[0m     \u001b[38;5;28msuper\u001b[39m()\u001b[38;5;241m.\u001b[39mdraw()\n",
      "File \u001b[1;32m~\\anaconda3\\envs\\Penv\\Lib\\site-packages\\matplotlib\\artist.py:95\u001b[0m, in \u001b[0;36m_finalize_rasterization.<locals>.draw_wrapper\u001b[1;34m(artist, renderer, *args, **kwargs)\u001b[0m\n\u001b[0;32m     93\u001b[0m \u001b[38;5;129m@wraps\u001b[39m(draw)\n\u001b[0;32m     94\u001b[0m \u001b[38;5;28;01mdef\u001b[39;00m \u001b[38;5;21mdraw_wrapper\u001b[39m(artist, renderer, \u001b[38;5;241m*\u001b[39margs, \u001b[38;5;241m*\u001b[39m\u001b[38;5;241m*\u001b[39mkwargs):\n\u001b[1;32m---> 95\u001b[0m     result \u001b[38;5;241m=\u001b[39m draw(artist, renderer, \u001b[38;5;241m*\u001b[39margs, \u001b[38;5;241m*\u001b[39m\u001b[38;5;241m*\u001b[39mkwargs)\n\u001b[0;32m     96\u001b[0m     \u001b[38;5;28;01mif\u001b[39;00m renderer\u001b[38;5;241m.\u001b[39m_rasterizing:\n\u001b[0;32m     97\u001b[0m         renderer\u001b[38;5;241m.\u001b[39mstop_rasterizing()\n",
      "File \u001b[1;32m~\\anaconda3\\envs\\Penv\\Lib\\site-packages\\matplotlib\\artist.py:72\u001b[0m, in \u001b[0;36mallow_rasterization.<locals>.draw_wrapper\u001b[1;34m(artist, renderer)\u001b[0m\n\u001b[0;32m     69\u001b[0m     \u001b[38;5;28;01mif\u001b[39;00m artist\u001b[38;5;241m.\u001b[39mget_agg_filter() \u001b[38;5;129;01mis\u001b[39;00m \u001b[38;5;129;01mnot\u001b[39;00m \u001b[38;5;28;01mNone\u001b[39;00m:\n\u001b[0;32m     70\u001b[0m         renderer\u001b[38;5;241m.\u001b[39mstart_filter()\n\u001b[1;32m---> 72\u001b[0m     \u001b[38;5;28;01mreturn\u001b[39;00m draw(artist, renderer)\n\u001b[0;32m     73\u001b[0m \u001b[38;5;28;01mfinally\u001b[39;00m:\n\u001b[0;32m     74\u001b[0m     \u001b[38;5;28;01mif\u001b[39;00m artist\u001b[38;5;241m.\u001b[39mget_agg_filter() \u001b[38;5;129;01mis\u001b[39;00m \u001b[38;5;129;01mnot\u001b[39;00m \u001b[38;5;28;01mNone\u001b[39;00m:\n",
      "File \u001b[1;32m~\\anaconda3\\envs\\Penv\\Lib\\site-packages\\matplotlib\\figure.py:3154\u001b[0m, in \u001b[0;36mFigure.draw\u001b[1;34m(self, renderer)\u001b[0m\n\u001b[0;32m   3151\u001b[0m         \u001b[38;5;66;03m# ValueError can occur when resizing a window.\u001b[39;00m\n\u001b[0;32m   3153\u001b[0m \u001b[38;5;28mself\u001b[39m\u001b[38;5;241m.\u001b[39mpatch\u001b[38;5;241m.\u001b[39mdraw(renderer)\n\u001b[1;32m-> 3154\u001b[0m mimage\u001b[38;5;241m.\u001b[39m_draw_list_compositing_images(\n\u001b[0;32m   3155\u001b[0m     renderer, \u001b[38;5;28mself\u001b[39m, artists, \u001b[38;5;28mself\u001b[39m\u001b[38;5;241m.\u001b[39msuppressComposite)\n\u001b[0;32m   3157\u001b[0m \u001b[38;5;28;01mfor\u001b[39;00m sfig \u001b[38;5;129;01min\u001b[39;00m \u001b[38;5;28mself\u001b[39m\u001b[38;5;241m.\u001b[39msubfigs:\n\u001b[0;32m   3158\u001b[0m     sfig\u001b[38;5;241m.\u001b[39mdraw(renderer)\n",
      "File \u001b[1;32m~\\anaconda3\\envs\\Penv\\Lib\\site-packages\\matplotlib\\image.py:132\u001b[0m, in \u001b[0;36m_draw_list_compositing_images\u001b[1;34m(renderer, parent, artists, suppress_composite)\u001b[0m\n\u001b[0;32m    130\u001b[0m \u001b[38;5;28;01mif\u001b[39;00m not_composite \u001b[38;5;129;01mor\u001b[39;00m \u001b[38;5;129;01mnot\u001b[39;00m has_images:\n\u001b[0;32m    131\u001b[0m     \u001b[38;5;28;01mfor\u001b[39;00m a \u001b[38;5;129;01min\u001b[39;00m artists:\n\u001b[1;32m--> 132\u001b[0m         a\u001b[38;5;241m.\u001b[39mdraw(renderer)\n\u001b[0;32m    133\u001b[0m \u001b[38;5;28;01melse\u001b[39;00m:\n\u001b[0;32m    134\u001b[0m     \u001b[38;5;66;03m# Composite any adjacent images together\u001b[39;00m\n\u001b[0;32m    135\u001b[0m     image_group \u001b[38;5;241m=\u001b[39m []\n",
      "File \u001b[1;32m~\\anaconda3\\envs\\Penv\\Lib\\site-packages\\matplotlib\\artist.py:72\u001b[0m, in \u001b[0;36mallow_rasterization.<locals>.draw_wrapper\u001b[1;34m(artist, renderer)\u001b[0m\n\u001b[0;32m     69\u001b[0m     \u001b[38;5;28;01mif\u001b[39;00m artist\u001b[38;5;241m.\u001b[39mget_agg_filter() \u001b[38;5;129;01mis\u001b[39;00m \u001b[38;5;129;01mnot\u001b[39;00m \u001b[38;5;28;01mNone\u001b[39;00m:\n\u001b[0;32m     70\u001b[0m         renderer\u001b[38;5;241m.\u001b[39mstart_filter()\n\u001b[1;32m---> 72\u001b[0m     \u001b[38;5;28;01mreturn\u001b[39;00m draw(artist, renderer)\n\u001b[0;32m     73\u001b[0m \u001b[38;5;28;01mfinally\u001b[39;00m:\n\u001b[0;32m     74\u001b[0m     \u001b[38;5;28;01mif\u001b[39;00m artist\u001b[38;5;241m.\u001b[39mget_agg_filter() \u001b[38;5;129;01mis\u001b[39;00m \u001b[38;5;129;01mnot\u001b[39;00m \u001b[38;5;28;01mNone\u001b[39;00m:\n",
      "File \u001b[1;32m~\\anaconda3\\envs\\Penv\\Lib\\site-packages\\matplotlib\\axes\\_base.py:3070\u001b[0m, in \u001b[0;36m_AxesBase.draw\u001b[1;34m(self, renderer)\u001b[0m\n\u001b[0;32m   3067\u001b[0m \u001b[38;5;28;01mif\u001b[39;00m artists_rasterized:\n\u001b[0;32m   3068\u001b[0m     _draw_rasterized(\u001b[38;5;28mself\u001b[39m\u001b[38;5;241m.\u001b[39mfigure, artists_rasterized, renderer)\n\u001b[1;32m-> 3070\u001b[0m mimage\u001b[38;5;241m.\u001b[39m_draw_list_compositing_images(\n\u001b[0;32m   3071\u001b[0m     renderer, \u001b[38;5;28mself\u001b[39m, artists, \u001b[38;5;28mself\u001b[39m\u001b[38;5;241m.\u001b[39mfigure\u001b[38;5;241m.\u001b[39msuppressComposite)\n\u001b[0;32m   3073\u001b[0m renderer\u001b[38;5;241m.\u001b[39mclose_group(\u001b[38;5;124m'\u001b[39m\u001b[38;5;124maxes\u001b[39m\u001b[38;5;124m'\u001b[39m)\n\u001b[0;32m   3074\u001b[0m \u001b[38;5;28mself\u001b[39m\u001b[38;5;241m.\u001b[39mstale \u001b[38;5;241m=\u001b[39m \u001b[38;5;28;01mFalse\u001b[39;00m\n",
      "File \u001b[1;32m~\\anaconda3\\envs\\Penv\\Lib\\site-packages\\matplotlib\\image.py:132\u001b[0m, in \u001b[0;36m_draw_list_compositing_images\u001b[1;34m(renderer, parent, artists, suppress_composite)\u001b[0m\n\u001b[0;32m    130\u001b[0m \u001b[38;5;28;01mif\u001b[39;00m not_composite \u001b[38;5;129;01mor\u001b[39;00m \u001b[38;5;129;01mnot\u001b[39;00m has_images:\n\u001b[0;32m    131\u001b[0m     \u001b[38;5;28;01mfor\u001b[39;00m a \u001b[38;5;129;01min\u001b[39;00m artists:\n\u001b[1;32m--> 132\u001b[0m         a\u001b[38;5;241m.\u001b[39mdraw(renderer)\n\u001b[0;32m    133\u001b[0m \u001b[38;5;28;01melse\u001b[39;00m:\n\u001b[0;32m    134\u001b[0m     \u001b[38;5;66;03m# Composite any adjacent images together\u001b[39;00m\n\u001b[0;32m    135\u001b[0m     image_group \u001b[38;5;241m=\u001b[39m []\n",
      "File \u001b[1;32m~\\anaconda3\\envs\\Penv\\Lib\\site-packages\\matplotlib\\artist.py:72\u001b[0m, in \u001b[0;36mallow_rasterization.<locals>.draw_wrapper\u001b[1;34m(artist, renderer)\u001b[0m\n\u001b[0;32m     69\u001b[0m     \u001b[38;5;28;01mif\u001b[39;00m artist\u001b[38;5;241m.\u001b[39mget_agg_filter() \u001b[38;5;129;01mis\u001b[39;00m \u001b[38;5;129;01mnot\u001b[39;00m \u001b[38;5;28;01mNone\u001b[39;00m:\n\u001b[0;32m     70\u001b[0m         renderer\u001b[38;5;241m.\u001b[39mstart_filter()\n\u001b[1;32m---> 72\u001b[0m     \u001b[38;5;28;01mreturn\u001b[39;00m draw(artist, renderer)\n\u001b[0;32m     73\u001b[0m \u001b[38;5;28;01mfinally\u001b[39;00m:\n\u001b[0;32m     74\u001b[0m     \u001b[38;5;28;01mif\u001b[39;00m artist\u001b[38;5;241m.\u001b[39mget_agg_filter() \u001b[38;5;129;01mis\u001b[39;00m \u001b[38;5;129;01mnot\u001b[39;00m \u001b[38;5;28;01mNone\u001b[39;00m:\n",
      "File \u001b[1;32m~\\anaconda3\\envs\\Penv\\Lib\\site-packages\\matplotlib\\collections.py:1005\u001b[0m, in \u001b[0;36m_CollectionWithSizes.draw\u001b[1;34m(self, renderer)\u001b[0m\n\u001b[0;32m   1002\u001b[0m \u001b[38;5;129m@artist\u001b[39m\u001b[38;5;241m.\u001b[39mallow_rasterization\n\u001b[0;32m   1003\u001b[0m \u001b[38;5;28;01mdef\u001b[39;00m \u001b[38;5;21mdraw\u001b[39m(\u001b[38;5;28mself\u001b[39m, renderer):\n\u001b[0;32m   1004\u001b[0m     \u001b[38;5;28mself\u001b[39m\u001b[38;5;241m.\u001b[39mset_sizes(\u001b[38;5;28mself\u001b[39m\u001b[38;5;241m.\u001b[39m_sizes, \u001b[38;5;28mself\u001b[39m\u001b[38;5;241m.\u001b[39mfigure\u001b[38;5;241m.\u001b[39mdpi)\n\u001b[1;32m-> 1005\u001b[0m     \u001b[38;5;28msuper\u001b[39m()\u001b[38;5;241m.\u001b[39mdraw(renderer)\n",
      "File \u001b[1;32m~\\anaconda3\\envs\\Penv\\Lib\\site-packages\\matplotlib\\artist.py:72\u001b[0m, in \u001b[0;36mallow_rasterization.<locals>.draw_wrapper\u001b[1;34m(artist, renderer)\u001b[0m\n\u001b[0;32m     69\u001b[0m     \u001b[38;5;28;01mif\u001b[39;00m artist\u001b[38;5;241m.\u001b[39mget_agg_filter() \u001b[38;5;129;01mis\u001b[39;00m \u001b[38;5;129;01mnot\u001b[39;00m \u001b[38;5;28;01mNone\u001b[39;00m:\n\u001b[0;32m     70\u001b[0m         renderer\u001b[38;5;241m.\u001b[39mstart_filter()\n\u001b[1;32m---> 72\u001b[0m     \u001b[38;5;28;01mreturn\u001b[39;00m draw(artist, renderer)\n\u001b[0;32m     73\u001b[0m \u001b[38;5;28;01mfinally\u001b[39;00m:\n\u001b[0;32m     74\u001b[0m     \u001b[38;5;28;01mif\u001b[39;00m artist\u001b[38;5;241m.\u001b[39mget_agg_filter() \u001b[38;5;129;01mis\u001b[39;00m \u001b[38;5;129;01mnot\u001b[39;00m \u001b[38;5;28;01mNone\u001b[39;00m:\n",
      "File \u001b[1;32m~\\anaconda3\\envs\\Penv\\Lib\\site-packages\\matplotlib\\collections.py:423\u001b[0m, in \u001b[0;36mCollection.draw\u001b[1;34m(self, renderer)\u001b[0m\n\u001b[0;32m    414\u001b[0m         ipaths, ilinestyles \u001b[38;5;241m=\u001b[39m \u001b[38;5;28mself\u001b[39m\u001b[38;5;241m.\u001b[39m_get_inverse_paths_linestyles()\n\u001b[0;32m    415\u001b[0m         renderer\u001b[38;5;241m.\u001b[39mdraw_path_collection(\n\u001b[0;32m    416\u001b[0m             gc, transform\u001b[38;5;241m.\u001b[39mfrozen(), ipaths,\n\u001b[0;32m    417\u001b[0m             \u001b[38;5;28mself\u001b[39m\u001b[38;5;241m.\u001b[39mget_transforms(), offsets, offset_trf,\n\u001b[1;32m   (...)\u001b[0m\n\u001b[0;32m    420\u001b[0m             \u001b[38;5;28mself\u001b[39m\u001b[38;5;241m.\u001b[39m_antialiaseds, \u001b[38;5;28mself\u001b[39m\u001b[38;5;241m.\u001b[39m_urls,\n\u001b[0;32m    421\u001b[0m             \u001b[38;5;124m\"\u001b[39m\u001b[38;5;124mscreen\u001b[39m\u001b[38;5;124m\"\u001b[39m)\n\u001b[1;32m--> 423\u001b[0m     renderer\u001b[38;5;241m.\u001b[39mdraw_path_collection(\n\u001b[0;32m    424\u001b[0m         gc, transform\u001b[38;5;241m.\u001b[39mfrozen(), paths,\n\u001b[0;32m    425\u001b[0m         \u001b[38;5;28mself\u001b[39m\u001b[38;5;241m.\u001b[39mget_transforms(), offsets, offset_trf,\n\u001b[0;32m    426\u001b[0m         \u001b[38;5;28mself\u001b[39m\u001b[38;5;241m.\u001b[39mget_facecolor(), \u001b[38;5;28mself\u001b[39m\u001b[38;5;241m.\u001b[39mget_edgecolor(),\n\u001b[0;32m    427\u001b[0m         \u001b[38;5;28mself\u001b[39m\u001b[38;5;241m.\u001b[39m_linewidths, \u001b[38;5;28mself\u001b[39m\u001b[38;5;241m.\u001b[39m_linestyles,\n\u001b[0;32m    428\u001b[0m         \u001b[38;5;28mself\u001b[39m\u001b[38;5;241m.\u001b[39m_antialiaseds, \u001b[38;5;28mself\u001b[39m\u001b[38;5;241m.\u001b[39m_urls,\n\u001b[0;32m    429\u001b[0m         \u001b[38;5;124m\"\u001b[39m\u001b[38;5;124mscreen\u001b[39m\u001b[38;5;124m\"\u001b[39m)  \u001b[38;5;66;03m# offset_position, kept for backcompat.\u001b[39;00m\n\u001b[0;32m    431\u001b[0m gc\u001b[38;5;241m.\u001b[39mrestore()\n\u001b[0;32m    432\u001b[0m renderer\u001b[38;5;241m.\u001b[39mclose_group(\u001b[38;5;28mself\u001b[39m\u001b[38;5;241m.\u001b[39m\u001b[38;5;18m__class__\u001b[39m\u001b[38;5;241m.\u001b[39m\u001b[38;5;18m__name__\u001b[39m)\n",
      "File \u001b[1;32m~\\anaconda3\\envs\\Penv\\Lib\\site-packages\\matplotlib\\path.py:211\u001b[0m, in \u001b[0;36mPath.vertices\u001b[1;34m(self)\u001b[0m\n\u001b[0;32m    203\u001b[0m     \u001b[38;5;28mself\u001b[39m\u001b[38;5;241m.\u001b[39m_simplify_threshold \u001b[38;5;241m=\u001b[39m mpl\u001b[38;5;241m.\u001b[39mrcParams[\u001b[38;5;124m'\u001b[39m\u001b[38;5;124mpath.simplify_threshold\u001b[39m\u001b[38;5;124m'\u001b[39m]\n\u001b[0;32m    204\u001b[0m     \u001b[38;5;28mself\u001b[39m\u001b[38;5;241m.\u001b[39m_should_simplify \u001b[38;5;241m=\u001b[39m (\n\u001b[0;32m    205\u001b[0m         \u001b[38;5;28mself\u001b[39m\u001b[38;5;241m.\u001b[39m_simplify_threshold \u001b[38;5;241m>\u001b[39m \u001b[38;5;241m0\u001b[39m \u001b[38;5;129;01mand\u001b[39;00m\n\u001b[0;32m    206\u001b[0m         mpl\u001b[38;5;241m.\u001b[39mrcParams[\u001b[38;5;124m'\u001b[39m\u001b[38;5;124mpath.simplify\u001b[39m\u001b[38;5;124m'\u001b[39m] \u001b[38;5;129;01mand\u001b[39;00m\n\u001b[0;32m    207\u001b[0m         \u001b[38;5;28mlen\u001b[39m(\u001b[38;5;28mself\u001b[39m\u001b[38;5;241m.\u001b[39m_vertices) \u001b[38;5;241m>\u001b[39m\u001b[38;5;241m=\u001b[39m \u001b[38;5;241m128\u001b[39m \u001b[38;5;129;01mand\u001b[39;00m\n\u001b[0;32m    208\u001b[0m         (\u001b[38;5;28mself\u001b[39m\u001b[38;5;241m.\u001b[39m_codes \u001b[38;5;129;01mis\u001b[39;00m \u001b[38;5;28;01mNone\u001b[39;00m \u001b[38;5;129;01mor\u001b[39;00m np\u001b[38;5;241m.\u001b[39mall(\u001b[38;5;28mself\u001b[39m\u001b[38;5;241m.\u001b[39m_codes \u001b[38;5;241m<\u001b[39m\u001b[38;5;241m=\u001b[39m Path\u001b[38;5;241m.\u001b[39mLINETO))\n\u001b[0;32m    209\u001b[0m     )\n\u001b[1;32m--> 211\u001b[0m \u001b[38;5;129m@property\u001b[39m\n\u001b[0;32m    212\u001b[0m \u001b[38;5;28;01mdef\u001b[39;00m \u001b[38;5;21mvertices\u001b[39m(\u001b[38;5;28mself\u001b[39m):\n\u001b[0;32m    213\u001b[0m \u001b[38;5;250m    \u001b[39m\u001b[38;5;124;03m\"\"\"The vertices of the `Path` as an (N, 2) array.\"\"\"\u001b[39;00m\n\u001b[0;32m    214\u001b[0m     \u001b[38;5;28;01mreturn\u001b[39;00m \u001b[38;5;28mself\u001b[39m\u001b[38;5;241m.\u001b[39m_vertices\n",
      "\u001b[1;31mKeyboardInterrupt\u001b[0m: "
     ]
    }
   ],
   "source": [
    "plt.close()\n",
    "sns.scatterplot(x=\"temp\",y='Offense Count',data=data,hue='NIBRS Description')"
   ]
  },
  {
   "cell_type": "code",
   "execution_count": null,
   "id": "01e02293",
   "metadata": {},
   "outputs": [],
   "source": []
  },
  {
   "cell_type": "code",
   "execution_count": null,
   "id": "c42a752b",
   "metadata": {},
   "outputs": [],
   "source": []
  }
 ],
 "metadata": {
  "kernelspec": {
   "display_name": "Python 3 (ipykernel)",
   "language": "python",
   "name": "python3"
  },
  "language_info": {
   "codemirror_mode": {
    "name": "ipython",
    "version": 3
   },
   "file_extension": ".py",
   "mimetype": "text/x-python",
   "name": "python",
   "nbconvert_exporter": "python",
   "pygments_lexer": "ipython3",
   "version": "3.11.5"
  }
 },
 "nbformat": 4,
 "nbformat_minor": 5
}
